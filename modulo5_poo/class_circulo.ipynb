{
 "cells": [
  {
   "cell_type": "code",
   "execution_count": 11,
   "metadata": {},
   "outputs": [],
   "source": [
    "class Circulo:\n",
    "\n",
    "    pi = 3.14\n",
    "\n",
    "    def __init__(self, raio = 5):\n",
    "        self.raio = raio\n",
    "\n",
    "    def area(self):\n",
    "        return (self.area * self.raio) * Circulo.pi\n",
    "    \n",
    "    def setRaio(self, novoRaio):\n",
    "        self.raio = novoRaio\n",
    "    \n",
    "    def getRaio(self):\n",
    "        return self.raio"
   ]
  },
  {
   "cell_type": "code",
   "execution_count": 12,
   "metadata": {},
   "outputs": [],
   "source": [
    "circ = Circulo()"
   ]
  },
  {
   "cell_type": "code",
   "execution_count": 13,
   "metadata": {},
   "outputs": [
    {
     "output_type": "execute_result",
     "data": {
      "text/plain": "5"
     },
     "metadata": {},
     "execution_count": 13
    }
   ],
   "source": [
    "circ.getRaio()"
   ]
  },
  {
   "cell_type": "code",
   "execution_count": 15,
   "metadata": {},
   "outputs": [
    {
     "output_type": "execute_result",
     "data": {
      "text/plain": "10"
     },
     "metadata": {},
     "execution_count": 15
    }
   ],
   "source": [
    "circ2 = Circulo(7)\n",
    "circ2.getRaio()\n",
    "circ.setRaio(10)\n",
    "circ.getRaio()"
   ]
  }
 ],
 "metadata": {
  "language_info": {
   "codemirror_mode": {
    "name": "ipython",
    "version": 3
   },
   "file_extension": ".py",
   "mimetype": "text/x-python",
   "name": "python",
   "nbconvert_exporter": "python",
   "pygments_lexer": "ipython3",
   "version": "3.7.6-final"
  },
  "orig_nbformat": 2,
  "kernelspec": {
   "name": "python37664bitbasecondae1797f1665a5401db9a5814b5ddc2edc",
   "display_name": "Python 3.7.6 64-bit ('base': conda)"
  }
 },
 "nbformat": 4,
 "nbformat_minor": 2
}