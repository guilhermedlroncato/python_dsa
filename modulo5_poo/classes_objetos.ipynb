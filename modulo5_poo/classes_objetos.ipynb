{
 "cells": [
  {
   "cell_type": "code",
   "execution_count": 10,
   "metadata": {},
   "outputs": [],
   "source": [
    "class Livro():\n",
    "    #contrutor\n",
    "    def __init__(self, titulo, isbn):\n",
    "        self.titulo = titulo\n",
    "        self.isbn = isbn\n",
    "        print('Objeto criado no construtor')\n",
    "    \n",
    "    def imprime(self):\n",
    "        print(f'Foi criado o livro {self.titulo} e ISBN {self.isbn}')"
   ]
  },
  {
   "cell_type": "code",
   "execution_count": 6,
   "metadata": {},
   "outputs": [
    {
     "output_type": "stream",
     "name": "stdout",
     "text": "Objeto criado no construtor\nObjeto criado no construtor\n"
    }
   ],
   "source": [
    "l1 = Livro('Pequeno Principe', 898989)\n",
    "l2 = Livro('A bela e a fera', 897987)"
   ]
  },
  {
   "cell_type": "code",
   "execution_count": 9,
   "metadata": {},
   "outputs": [
    {
     "output_type": "stream",
     "name": "stdout",
     "text": "Foi criado o livro Pequeno Principe e ISBN 898989\n"
    },
    {
     "output_type": "execute_result",
     "data": {
      "text/plain": "'A bela e a fera'"
     },
     "metadata": {},
     "execution_count": 9
    }
   ],
   "source": [
    "l1.imprime()\n",
    "l2.titulo"
   ]
  }
 ],
 "metadata": {
  "language_info": {
   "codemirror_mode": {
    "name": "ipython",
    "version": 3
   },
   "file_extension": ".py",
   "mimetype": "text/x-python",
   "name": "python",
   "nbconvert_exporter": "python",
   "pygments_lexer": "ipython3",
   "version": "3.7.6-final"
  },
  "orig_nbformat": 2,
  "kernelspec": {
   "name": "python37664bitbasecondae1797f1665a5401db9a5814b5ddc2edc",
   "display_name": "Python 3.7.6 64-bit ('base': conda)"
  }
 },
 "nbformat": 4,
 "nbformat_minor": 2
}