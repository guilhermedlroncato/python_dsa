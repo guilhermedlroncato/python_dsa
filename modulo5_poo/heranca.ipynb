{
 "cells": [
  {
   "cell_type": "code",
   "execution_count": 19,
   "metadata": {},
   "outputs": [],
   "source": [
    "#super-classe\n",
    "class Animal():\n",
    "\n",
    "    def __init__(self):\n",
    "        print('Animal Criado')\n",
    "    \n",
    "    def identif(self):\n",
    "        print('Animal')\n",
    "    \n",
    "    def comer(self):\n",
    "        print('Comendo')"
   ]
  },
  {
   "cell_type": "code",
   "execution_count": 18,
   "metadata": {},
   "outputs": [],
   "source": [
    "#sub-classe\n",
    "class Cachorro(Animal):\n",
    "\n",
    "    def __init__(self):\n",
    "        Animal.__init__(self)\n",
    "        print('OBjeto cachorro criado')\n",
    "    \n",
    "    def identif(self):\n",
    "        print('Cachorro')\n",
    "    \n",
    "    def latir(self):\n",
    "        print('Au au')"
   ]
  },
  {
   "cell_type": "code",
   "execution_count": 20,
   "metadata": {},
   "outputs": [
    {
     "output_type": "stream",
     "name": "stdout",
     "text": "Animal Criado\nOBjeto cachorro criado\n"
    }
   ],
   "source": [
    "rex = Cachorro()"
   ]
  },
  {
   "cell_type": "code",
   "execution_count": 25,
   "metadata": {},
   "outputs": [
    {
     "output_type": "stream",
     "name": "stdout",
     "text": "Cachorro\nComendo\nAu au\n"
    }
   ],
   "source": [
    "rex.identif()\n",
    "rex.comer()\n",
    "rex.latir()"
   ]
  }
 ],
 "metadata": {
  "language_info": {
   "codemirror_mode": {
    "name": "ipython",
    "version": 3
   },
   "file_extension": ".py",
   "mimetype": "text/x-python",
   "name": "python",
   "nbconvert_exporter": "python",
   "pygments_lexer": "ipython3",
   "version": "3.7.6-final"
  },
  "orig_nbformat": 2,
  "kernelspec": {
   "name": "python37664bitbasecondae1797f1665a5401db9a5814b5ddc2edc",
   "display_name": "Python 3.7.6 64-bit ('base': conda)"
  }
 },
 "nbformat": 4,
 "nbformat_minor": 2
}