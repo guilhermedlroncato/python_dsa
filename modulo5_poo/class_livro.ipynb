{
 "cells": [
  {
   "cell_type": "code",
   "execution_count": 43,
   "metadata": {},
   "outputs": [],
   "source": [
    "class Livro():\n",
    "\n",
    "    def __init__(self, titulo, autor, paginas):\n",
    "        self.titulo = titulo\n",
    "        self.autor = autor \n",
    "        self.paginas = paginas\n",
    "    \n",
    "    def __str__(self):\n",
    "        return f'Titulo: {self.titulo}, autor: {self.autor} e paginas: {self.paginas}'\n",
    "\n",
    "    def __len__(self):\n",
    "        return self.paginas\n",
    "\n",
    "    def len(self):\n",
    "        return print(f'Paginas do livra com metodo comun: {self.paginas}')"
   ]
  },
  {
   "cell_type": "code",
   "execution_count": 45,
   "metadata": {},
   "outputs": [],
   "source": [
    "l1 = Livro('Os Lusiadas', 'Luis de Camões', 250)"
   ]
  },
  {
   "cell_type": "code",
   "execution_count": 46,
   "metadata": {},
   "outputs": [
    {
     "output_type": "execute_result",
     "data": {
      "text/plain": "'Titulo: Os Lusiadas, autor: Luis de Camões e paginas: 250'"
     },
     "metadata": {},
     "execution_count": 46
    }
   ],
   "source": [
    "str(l1)\n"
   ]
  },
  {
   "cell_type": "code",
   "execution_count": 47,
   "metadata": {},
   "outputs": [
    {
     "output_type": "stream",
     "name": "stdout",
     "text": "Titulo: Os Lusiadas, autor: Luis de Camões e paginas: 250\n"
    }
   ],
   "source": [
    "print(l1)"
   ]
  },
  {
   "cell_type": "code",
   "execution_count": 48,
   "metadata": {},
   "outputs": [
    {
     "output_type": "stream",
     "name": "stdout",
     "text": "Paginas do livra com metodo comun: 250\n"
    }
   ],
   "source": [
    "l1.len()"
   ]
  },
  {
   "cell_type": "code",
   "execution_count": 49,
   "metadata": {},
   "outputs": [
    {
     "output_type": "execute_result",
     "data": {
      "text/plain": "250"
     },
     "metadata": {},
     "execution_count": 49
    }
   ],
   "source": [
    "len(l1)"
   ]
  },
  {
   "cell_type": "code",
   "execution_count": 50,
   "metadata": {},
   "outputs": [],
   "source": [
    "del l1.paginas"
   ]
  }
 ],
 "metadata": {
  "language_info": {
   "codemirror_mode": {
    "name": "ipython",
    "version": 3
   },
   "file_extension": ".py",
   "mimetype": "text/x-python",
   "name": "python",
   "nbconvert_exporter": "python",
   "pygments_lexer": "ipython3",
   "version": "3.7.6-final"
  },
  "orig_nbformat": 2,
  "kernelspec": {
   "name": "python37664bitbasecondae1797f1665a5401db9a5814b5ddc2edc",
   "display_name": "Python 3.7.6 64-bit ('base': conda)"
  }
 },
 "nbformat": 4,
 "nbformat_minor": 2
}