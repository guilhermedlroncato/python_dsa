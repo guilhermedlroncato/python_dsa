{
 "cells": [
  {
   "cell_type": "code",
   "execution_count": 2,
   "metadata": {},
   "outputs": [],
   "source": [
    "import pandas as pd"
   ]
  },
  {
   "cell_type": "code",
   "execution_count": 5,
   "metadata": {},
   "outputs": [],
   "source": [
    "arq = 'arquivos/salarios.csv'\n",
    "df = pd.read_csv(arq)"
   ]
  },
  {
   "cell_type": "code",
   "execution_count": 7,
   "metadata": {},
   "outputs": [
    {
     "output_type": "execute_result",
     "data": {
      "text/plain": "                     Name                 Job Titles        Department  \\\n0  ADRIANO,  RACQUEL ANNE                  PARAMEDIC              FIRE   \n1       AFFANEH,  MAHIR A             POLICE OFFICER            POLICE   \n2       AFOENYI,  PHYLLIS  TITLE V PROGRAM TRAINEE I  FAMILY & SUPPORT   \n3         AGAR,  BULENT B        DEPUTY COMMISSIONER       WATER MGMNT   \n4         AGEE,  LAWRENCE             POLICE OFFICER            POLICE   \n\n  Full or Part-Time Salary or Hourly  Typical Hours  Annual Salary  \\\n0                 F           Salary            NaN        72510.0   \n1                 F           Salary            NaN        93354.0   \n2                 P           Hourly           20.0            NaN   \n3                 F           Salary            NaN       132972.0   \n4                 F           Salary            NaN        90024.0   \n\n   Hourly Rate  \n0          NaN  \n1          NaN  \n2         13.0  \n3          NaN  \n4          NaN  ",
      "text/html": "<div>\n<style scoped>\n    .dataframe tbody tr th:only-of-type {\n        vertical-align: middle;\n    }\n\n    .dataframe tbody tr th {\n        vertical-align: top;\n    }\n\n    .dataframe thead th {\n        text-align: right;\n    }\n</style>\n<table border=\"1\" class=\"dataframe\">\n  <thead>\n    <tr style=\"text-align: right;\">\n      <th></th>\n      <th>Name</th>\n      <th>Job Titles</th>\n      <th>Department</th>\n      <th>Full or Part-Time</th>\n      <th>Salary or Hourly</th>\n      <th>Typical Hours</th>\n      <th>Annual Salary</th>\n      <th>Hourly Rate</th>\n    </tr>\n  </thead>\n  <tbody>\n    <tr>\n      <th>0</th>\n      <td>ADRIANO,  RACQUEL ANNE</td>\n      <td>PARAMEDIC</td>\n      <td>FIRE</td>\n      <td>F</td>\n      <td>Salary</td>\n      <td>NaN</td>\n      <td>72510.0</td>\n      <td>NaN</td>\n    </tr>\n    <tr>\n      <th>1</th>\n      <td>AFFANEH,  MAHIR A</td>\n      <td>POLICE OFFICER</td>\n      <td>POLICE</td>\n      <td>F</td>\n      <td>Salary</td>\n      <td>NaN</td>\n      <td>93354.0</td>\n      <td>NaN</td>\n    </tr>\n    <tr>\n      <th>2</th>\n      <td>AFOENYI,  PHYLLIS</td>\n      <td>TITLE V PROGRAM TRAINEE I</td>\n      <td>FAMILY &amp; SUPPORT</td>\n      <td>P</td>\n      <td>Hourly</td>\n      <td>20.0</td>\n      <td>NaN</td>\n      <td>13.0</td>\n    </tr>\n    <tr>\n      <th>3</th>\n      <td>AGAR,  BULENT B</td>\n      <td>DEPUTY COMMISSIONER</td>\n      <td>WATER MGMNT</td>\n      <td>F</td>\n      <td>Salary</td>\n      <td>NaN</td>\n      <td>132972.0</td>\n      <td>NaN</td>\n    </tr>\n    <tr>\n      <th>4</th>\n      <td>AGEE,  LAWRENCE</td>\n      <td>POLICE OFFICER</td>\n      <td>POLICE</td>\n      <td>F</td>\n      <td>Salary</td>\n      <td>NaN</td>\n      <td>90024.0</td>\n      <td>NaN</td>\n    </tr>\n  </tbody>\n</table>\n</div>"
     },
     "metadata": {},
     "execution_count": 7
    }
   ],
   "source": [
    "df.head()"
   ]
  },
  {
   "cell_type": "code",
   "execution_count": 9,
   "metadata": {},
   "outputs": [
    {
     "output_type": "execute_result",
     "data": {
      "text/plain": "       Typical Hours  Annual Salary  Hourly Rate\ncount    8174.000000   25528.000000  8174.000000\nmean       34.364448   89061.795000    34.586450\nstd         9.420849   21132.041408    13.285543\nmin        10.000000   14160.000000     2.650000\n25%        20.000000   76266.000000    22.360000\n50%        40.000000   90024.000000    37.450000\n75%        40.000000   98292.000000    43.720000\nmax        40.000000  275004.000000   128.000000",
      "text/html": "<div>\n<style scoped>\n    .dataframe tbody tr th:only-of-type {\n        vertical-align: middle;\n    }\n\n    .dataframe tbody tr th {\n        vertical-align: top;\n    }\n\n    .dataframe thead th {\n        text-align: right;\n    }\n</style>\n<table border=\"1\" class=\"dataframe\">\n  <thead>\n    <tr style=\"text-align: right;\">\n      <th></th>\n      <th>Typical Hours</th>\n      <th>Annual Salary</th>\n      <th>Hourly Rate</th>\n    </tr>\n  </thead>\n  <tbody>\n    <tr>\n      <th>count</th>\n      <td>8174.000000</td>\n      <td>25528.000000</td>\n      <td>8174.000000</td>\n    </tr>\n    <tr>\n      <th>mean</th>\n      <td>34.364448</td>\n      <td>89061.795000</td>\n      <td>34.586450</td>\n    </tr>\n    <tr>\n      <th>std</th>\n      <td>9.420849</td>\n      <td>21132.041408</td>\n      <td>13.285543</td>\n    </tr>\n    <tr>\n      <th>min</th>\n      <td>10.000000</td>\n      <td>14160.000000</td>\n      <td>2.650000</td>\n    </tr>\n    <tr>\n      <th>25%</th>\n      <td>20.000000</td>\n      <td>76266.000000</td>\n      <td>22.360000</td>\n    </tr>\n    <tr>\n      <th>50%</th>\n      <td>40.000000</td>\n      <td>90024.000000</td>\n      <td>37.450000</td>\n    </tr>\n    <tr>\n      <th>75%</th>\n      <td>40.000000</td>\n      <td>98292.000000</td>\n      <td>43.720000</td>\n    </tr>\n    <tr>\n      <th>max</th>\n      <td>40.000000</td>\n      <td>275004.000000</td>\n      <td>128.000000</td>\n    </tr>\n  </tbody>\n</table>\n</div>"
     },
     "metadata": {},
     "execution_count": 9
    }
   ],
   "source": [
    "df.describe()"
   ]
  }
 ],
 "metadata": {
  "language_info": {
   "codemirror_mode": {
    "name": "ipython",
    "version": 3
   },
   "file_extension": ".py",
   "mimetype": "text/x-python",
   "name": "python",
   "nbconvert_exporter": "python",
   "pygments_lexer": "ipython3",
   "version": "3.7.6-final"
  },
  "orig_nbformat": 2,
  "kernelspec": {
   "name": "python37664bitbasecondae1797f1665a5401db9a5814b5ddc2edc",
   "display_name": "Python 3.7.6 64-bit ('base': conda)"
  }
 },
 "nbformat": 4,
 "nbformat_minor": 2
}