{
 "cells": [
  {
   "cell_type": "code",
   "execution_count": 5,
   "metadata": {},
   "outputs": [],
   "source": [
    "# -*- coding: utf-8 -*-\n",
    "arq = open('arquivos/arquivo.txt', 'r')"
   ]
  },
  {
   "cell_type": "code",
   "execution_count": 6,
   "metadata": {},
   "outputs": [
    {
     "output_type": "stream",
     "name": "stdout",
     "text": "O Pyhton Ã© uma linguagem fantastica!\n"
    }
   ],
   "source": [
    "print(arq.read())"
   ]
  },
  {
   "cell_type": "code",
   "execution_count": 7,
   "metadata": {},
   "outputs": [
    {
     "output_type": "stream",
     "name": "stdout",
     "text": "37\n"
    }
   ],
   "source": [
    "print(arq.tell())"
   ]
  },
  {
   "cell_type": "code",
   "execution_count": 9,
   "metadata": {},
   "outputs": [
    {
     "output_type": "stream",
     "name": "stdout",
     "text": "0\n"
    }
   ],
   "source": [
    "print(arq.seek(0,0))"
   ]
  },
  {
   "cell_type": "code",
   "execution_count": 10,
   "metadata": {},
   "outputs": [
    {
     "output_type": "stream",
     "name": "stdout",
     "text": "O Pyhton Ã\n"
    }
   ],
   "source": [
    "print(arq.read(10))"
   ]
  },
  {
   "cell_type": "code",
   "execution_count": 11,
   "metadata": {},
   "outputs": [],
   "source": [
    "arq2 = open('arquivos/arquivo.txt', 'w')"
   ]
  },
  {
   "cell_type": "code",
   "execution_count": 13,
   "metadata": {},
   "outputs": [],
   "source": [
    "arq2.write('Ola tudo bem!')\n",
    "arq2.close()"
   ]
  },
  {
   "cell_type": "code",
   "execution_count": 14,
   "metadata": {},
   "outputs": [
    {
     "output_type": "stream",
     "name": "stdout",
     "text": "Ola tudo bem!Ola tudo bem!\n"
    }
   ],
   "source": [
    "arq2 = open('arquivos/arquivo.txt', 'r')\n",
    "print(arq2.read())"
   ]
  },
  {
   "cell_type": "markdown",
   "metadata": {},
   "source": [
    "###Abrindo um DataSet"
   ]
  },
  {
   "cell_type": "code",
   "execution_count": 15,
   "metadata": {},
   "outputs": [],
   "source": [
    "f = open('arquivos/salarios.csv', 'r')"
   ]
  },
  {
   "cell_type": "code",
   "execution_count": 16,
   "metadata": {},
   "outputs": [],
   "source": [
    "data = f.read()"
   ]
  },
  {
   "cell_type": "code",
   "execution_count": 18,
   "metadata": {},
   "outputs": [],
   "source": [
    "rows =  data.split('\\n')"
   ]
  },
  {
   "cell_type": "code",
   "execution_count": 20,
   "metadata": {
    "tags": [
     "outputPrepend"
    ]
   },
   "outputs": [],
   "source": [
    "full_data = []"
   ]
  },
  {
   "cell_type": "code",
   "execution_count": 21,
   "metadata": {},
   "outputs": [],
   "source": [
    "for row in rows:\n",
    "    split_row = row.split(',')\n",
    "    full_data.append(split_row)"
   ]
  },
  {
   "cell_type": "code",
   "execution_count": 22,
   "metadata": {
    "tags": [
     "outputPrepend"
    ]
   },
   "outputs": [
    {
     "output_type": "stream",
     "name": "stdout",
     "text": " '', '94122.00', ''], ['\"ZATOR', '  KENNETH W\"', 'AVIATION SECURITY OFFICER - HOURLY', 'AVIATION', 'P', 'Hourly', '20', '', '22.35'], ['\"ZATOR', '  KEVIN M\"', 'ASST COMMISSIONER', 'AVIATION', 'F', 'Salary', '', '108960.00', ''], ['\"ZATTAIR', '  NICK\"', 'SERGEANT', 'POLICE', 'F', 'Salary', '', '122472.00', ''], ['\"ZAUCEDO', '  JOSE C\"', 'FIREFIGHTER-EMT', 'FIRE', 'F', 'Salary', '', '95484.00', ''], ['\"ZAUKAS', '  RYAN M\"', 'MOTOR TRUCK DRIVER', 'TRANSPORTN', 'F', 'Hourly', '40', '', '37.45'], ['\"ZAVALA-AGUIRRE', '  JIM\"', 'TREE TRIMMER', 'STREETS & SAN', 'F', 'Hourly', '40', '', '27.75'], ['\"ZAVALA', '  FERNANDO\"', 'ACCOUNTANT IV', 'FINANCE', 'F', 'Salary', '', '107208.00', ''], ['\"ZAVALA', '  GRECIA\"', 'POLICE OFFICER', 'POLICE', 'F', 'Salary', '', '68616.00', ''], ['\"ZAVALA', '  JENNY\"', 'POLICE OFFICER', 'POLICE', 'F', 'Salary', '', '84054.00', ''], ['\"ZAVALA', '  JOSUE\"', 'CONCRETE LABORER', 'TRANSPORTN', 'F', 'Hourly', '40', '', '43.72'], ['\"ZAVALA', '  JULIO\"', 'POLICE OFFICER', 'POLICE', 'F', 'Salary', '', '76266.00', ''], ['\"ZAVALA', '  MARK A\"', 'ELECTRICAL MECHANIC (AUTOMOTIVE)', 'DAIS', 'F', 'Hourly', '40', '', '49.35'], ['\"ZAVALA', '  MARK A\"', 'LABORER', 'TRANSPORTN', 'F', 'Hourly', '40', '', '43.72'], ['\"ZAVALA', '  MATTHEW R\"', 'SERVICE WRITER', 'DAIS', 'F', 'Salary', '', '81804.00', ''], ['\"ZAVALA', '  MICHAEL D\"', 'FRM OF MACHINISTS - AUTOMOTIVE', 'DAIS', 'F', 'Hourly', '40', '', '51.43'], ['\"ZAVALA', '  OLGA\"', 'CROSSING GUARD', 'OEMC', 'P', 'Hourly', '20', '', '18.52'], ['\"ZAVALA', '  ROBERTO\"', 'POLICE OFFICER', 'POLICE', 'F', 'Salary', '', '84054.00', ''], ['\"ZAVALA', '  VICTOR M\"', 'EQUIPMENT DISPATCHER I/C', 'DAIS', 'F', 'Hourly', '40', '', '39.42'], ['\"ZAVALA', '  WENSESLAO\"', 'POLICE OFFICER', 'POLICE', 'F', 'Salary', '', '90024.00', ''], ['\"ZAVALETA', '  RAMON\"', 'POLICE OFFICER', 'POLICE', 'F', 'Salary', '', '90024.00', ''], ['\"ZAVISTAUSKAS', '  ROMAS\"', 'PLUMBER', 'WATER MGMNT', 'F', 'Hourly', '40', '', '51.00'], ['\"ZAVOS', '  JAMES M\"', 'MOTOR TRUCK DRIVER', 'AVIATION', 'F', 'Hourly', '40', '', '37.45'], ['\"ZAVOS', '  JUSTIN M\"', 'FLEET SERVICES ASST', 'DAIS', 'F', 'Hourly', '40', '', '25.47'], ['\"ZAWADA', '  RICHARD A\"', 'POLICE OFFICER', 'POLICE', 'F', 'Salary', '', '96060.00', ''], ['\"ZAWADA', '  ROMAN F\"', 'POLICE OFFICER', 'POLICE', 'F', 'Salary', '', '90024.00', ''], ['\"ZAWADZKI', '  SHELLEY M\"', 'LIBRARIAN IV', 'PUBLIC LIBRARY', 'F', 'Salary', '', '107208.00', ''], ['\"ZAWILA', '  ROBERT\"', 'POOL MOTOR TRUCK DRIVER', 'STREETS & SAN', 'F', 'Hourly', '40', '', '37.45'], ['\"ZAYAS', '  ALBERTO H\"', 'POLICE OFFICER', 'POLICE', 'F', 'Salary', '', '87006.00', ''], ['\"ZAYAS', '  ALEXIS M\"', 'POLICE OFFICER', 'POLICE', 'F', 'Salary', '', '80016.00', ''], ['\"ZAYAS', '  ALFREDO\"', 'POOL MOTOR TRUCK DRIVER', 'STREETS & SAN', 'P', 'Hourly', '10', '', '29.96'], ['\"ZAYA', '  SARGON\"', 'POLICE OFFICER', 'POLICE', 'F', 'Salary', '', '72510.00', ''], ['\"ZAYAS JR', '  ANDRES\"', 'SERGEANT', 'POLICE', 'F', 'Salary', '', '122472.00', ''], ['\"ZAYED', '  SAMERA Z\"', 'DISABILITY SPECIALIST II', 'DISABILITIES', 'F', 'Salary', '', '89916.00', ''], ['\"ZBELA', '  KRYSTYNA Z\"', 'POLICE OFFICER', 'POLICE', 'F', 'Salary', '', '87006.00', ''], ['\"ZBORIL', '  NORA A\"', 'PUBLIC RELATIONS REP III - EXCLD', 'CULTURAL AFFAIRS', 'F', 'Salary', '', '83628.00', ''], ['\"ZDANYS', '  DAVID A\"', 'POLICE OFFICER', 'POLICE', 'F', 'Salary', '', '93354.00', ''], ['\"ZDEB', '  MARK J\"', 'POLICE OFFICER', 'POLICE', 'F', 'Salary', '', '87006.00', ''], ['\"ZDRZALKA', '  MARIUSZ\"', 'POLICE OFFICER', 'POLICE', 'F', 'Salary', '', '76266.00', ''], ['\"ZDRZALKA', '  PIOTR\"', 'POLICE OFFICER', 'POLICE', 'F', 'Salary', '', '84054.00', ''], ['\"ZECEVICH', '  DRAGAN\"', 'FOREMAN OF ELECTRICAL MECHANICS', 'WATER MGMNT', 'F', 'Hourly', '40', '', '52.35'], ['\"ZEFRAN', '  FRANK J\"', 'CONSTRUCTION LABORER', 'WATER MGMNT', 'F', 'Hourly', '40', '', '43.72'], ['\"ZEFRAN', '  JOHN L\"', 'GENERAL SUPT OF STREETS AND SANITATION', 'STREETS & SAN', 'F', 'Salary', '', '126504.00', ''], ['\"ZEGA', '  BRIAN C\"', 'PARAMEDIC I/C', 'FIRE', 'F', 'Salary', '', '91080.00', ''], ['\"ZEGA', '  JAMES E\"', 'POLICE OFFICER', 'POLICE', 'F', 'Salary', '', '96060.00', ''], ['\"ZEGLIS', '  THERESA\"', 'POLICE OFFICER', 'POLICE', 'F', 'Salary', '', '84054.00', ''], ['\"ZEIGER', '  EDWARD A\"', 'POLICE COMMUNICATIONS OPERATOR I', 'OEMC', 'F', 'Salary', '', '85056.00', ''], ['\"ZEIGER', '  HEIDI A\"', 'PHOTOGRAPHER', \"MAYOR'S OFFICE\", 'F', 'Salary', '', '82008.00', ''], ['\"ZEIGER', '  MATTHEW\"', 'POLICE OFFICER', 'POLICE', 'F', 'Salary', '', '76266.00', ''], ['\"ZEIMYS', '  ERIK M\"', 'HOISTING ENGINEER - MECHANIC', 'DAIS', 'F', 'Hourly', '40', '', '54.10'], ['\"ZEKTHI', '  KLAUDIO\"', 'POLICE OFFICER', 'POLICE', 'F', 'Salary', '', '76266.00', ''], ['\"ZELAYA', '  MANUEL E\"', 'FOREMAN OF PAINTERS', 'AVIATION', 'F', 'Hourly', '40', '', '53.21'], ['\"ZELECHOWSKI', '  ELISE\"', 'ASST DEPUTY CHIEF OF STAFF', \"MAYOR'S OFFICE\", 'F', 'Salary', '', '150000.00', ''], ['\"ZELEZNAK', '  MARK J\"', 'ELECTRICAL MECHANIC (AUTOMOTIVE)', 'DAIS', 'F', 'Hourly', '40', '', '49.35'], ['\"ZELLER', '  DANIEL J\"', 'FIRE ENGINEER-EMT', 'FIRE', 'F', 'Salary', '', '99846.00', ''], ['\"ZELLER', '  ELIZABETH M\"', 'PARAMEDIC I/C', 'FIRE', 'F', 'Salary', '', '94122.00', ''], ['\"ZEMAN', '  EDWARD\"', 'POLICE OFFICER', 'POLICE', 'F', 'Salary', '', '80016.00', ''], ['\"ZEMAN', '  KATIE\"', 'DIR OF CHILDREN SERVICES', 'FAMILY & SUPPORT', 'F', 'Salary', '', '99624.00', ''], ['\"ZEMKE', '  CRAIG M\"', 'SUPVSR OF CHILDREN SERVICES PROGRAMS', 'FAMILY & SUPPORT', 'F', 'Salary', '', '83628.00', ''], ['\"ZEMKE', '  RICHARD P\"', 'MACHINIST', 'AVIATION', 'F', 'Hourly', '40', '', '48.93'], ['\"ZENDEJAS', '  RUBEN\"', 'LIEUTENANT-PARAMEDIC', 'FIRE', 'F', 'Salary', '', '117030.00', ''], ['\"ZENERE', '  MARCO\"', 'POLICE OFFICER', 'POLICE', 'F', 'Salary', '', '84054.00', ''], ['\"ZENI', '  MOHAMMAD S\"', 'FLEET SERVICES ASST', 'DAIS', 'F', 'Hourly', '40', '', '25.47'], ['\"ZENNER', '  ELIE\"', 'ASST CORPORATION COUNSEL III', 'LAW', 'F', 'Salary', '', '89700.00', ''], ['\"ZENO DAVIS', '  CHARISSE J\"', 'POLICE OFFICER', 'POLICE', 'F', 'Salary', '', '96060.00', ''], ['\"ZEPEDA', '  ADRIAN\"', 'POLICE OFFICER (ASSIGNED AS DETECTIVE)', 'POLICE', 'F', 'Salary', '', '94122.00', ''], ['\"ZEPEDA', '  ANDRES A\"', 'POLICE OFFICER', 'POLICE', 'F', 'Salary', '', '90024.00', ''], ['\"ZEPEDA', '  CARLOS\"', 'CONSTRUCTION LABORER', 'WATER MGMNT', 'F', 'Hourly', '40', '', '43.72'], ['\"ZEPEDA', '  EDUARDO\"', 'POLICE OFFICER', 'POLICE', 'F', 'Salary', '', '80016.00', ''], ['\"ZEPEDA', '  EMMANUEL\"', 'POLICE OFFICER', 'POLICE', 'F', 'Salary', '', '68616.00', ''], ['\"ZEPEDA', '  ERNESTO\"', 'TREE TRIMMER', 'STREETS & SAN', 'F', 'Hourly', '40', '', '39.64'], ['\"ZEPEDA', '  JOSE R\"', 'CONSTRUCTION LABORER', 'WATER MGMNT', 'F', 'Hourly', '40', '', '43.72'], ['\"ZEPEDA', '  LILIANA\"', 'POLICE OFFICER', 'POLICE', 'F', 'Salary', '', '84054.00', ''], ['\"ZEPEDA', '  LUIS\"', 'ASST GENERAL SUPT OF STREETS AND SANITATION', 'STREETS & SAN', 'F', 'Salary', '', '100668.00', ''], ['\"ZERITIS', '  ANGELO G\"', 'FIRE ENGINEER-EMT', 'FIRE', 'F', 'Salary', '', '103350.00', ''], ['\"ZERMENO', '  OSCAR\"', 'POLICE OFFICER', 'POLICE', 'F', 'Salary', '', '87006.00', ''], ['\"ZERVAS', '  NICHOLAS J\"', 'LIEUTENANT-EMT', 'FIRE', 'F', 'Salary', '', '114324.00', ''], ['\"ZETTEL', '  NICHOLAS J\"', 'STAFF ASST TO THE ALDERMAN', 'CITY COUNCIL', 'F', 'Salary', '', '59004.00', ''], ['\"ZEUTSCHEL', '  PAUL R\"', 'FIREFIGHTER-EMT', 'FIRE', 'F', 'Salary', '', '92274.00', ''], ['\"ZEYADICH', '  ETHEM\"', 'SANITARIAN II', 'HEALTH', 'F', 'Salary', '', '62316.00', ''], ['\"ZHANG', '  ANNE\"', 'COORDINATING ENGINEER II', 'TRANSPORTN', 'F', 'Salary', '', '123996.00', ''], ['\"ZHANG', '  JACKIE L\"', 'FOREMAN OF CEMENT FINISHERS', 'TRANSPORTN', 'F', 'Hourly', '40', '', '48.25'], ['\"ZHANG', '  JENNIFER\"', 'HEAD LIBRARY CLERK', 'PUBLIC LIBRARY', 'F', 'Salary', '', '74568.00', ''], ['\"ZHANG', '  KEFENG\"', 'ACCOUNTANT III', 'AVIATION', 'F', 'Salary', '', '89016.00', ''], ['\"ZHANG', '  YI\"', 'PROJECT DIR', 'TRANSPORTN', 'F', 'Salary', '', '123996.00', ''], ['\"ZHAO', '  DE F\"', 'POLICE OFFICER', 'POLICE', 'F', 'Salary', '', '72510.00', ''], ['\"ZHEN', '  CHRISTINE\"', 'LIBRARY CLERK - HOURLY', 'PUBLIC LIBRARY', 'P', 'Hourly', '20', '', '18.01'], ['\"ZHENG', '  CHEN Q\"', 'POLICE OFFICER', 'POLICE', 'F', 'Salary', '', '68616.00', ''], ['\"ZHONG', '  SIMON\"', 'POLICE OFFICER', 'POLICE', 'F', 'Salary', '', '48078.00', ''], ['\"ZIA', '  GREGORY P\"', 'POLICE OFFICER', 'POLICE', 'F', 'Salary', '', '90024.00', ''], ['\"ZIA', '  KEVIN M\"', 'POLICE OFFICER', 'POLICE', 'F', 'Salary', '', '90024.00', ''], ['\"ZIARNO', '  ELIZABETH\"', 'PARALEGAL II', 'LAW', 'F', 'Salary', '', '89808.00', ''], ['\"ZICKTERMAN', '  KEVIN A\"', 'ASST CORPORATION COUNSEL I', 'LAW', 'F', 'Salary', '', '71136.00', ''], ['\"ZIEBA', '  AGNIESZKA\"', 'POLICE OFFICER', 'POLICE', 'F', 'Salary', '', '84054.00', ''], ['\"ZIEDMAN', '  CRAIG R\"', 'POLICE OFFICER', 'POLICE', 'F', 'Salary', '', '93354.00', ''], ['\"ZIEGENBEIN', '  HANS T\"', 'CAPTAIN-EMT', 'FIRE', 'F', 'Salary', '', '132732.00', ''], ['\"ZIEGLER', '  EDINA K\"', 'POLICE OFFICER', 'POLICE', 'F', 'Salary', '', '87006.00', ''], ['\"ZIEGLER', '  WILLIAM F\"', 'POLICE OFFICER', 'POLICE', 'F', 'Salary', '', '93354.00', ''], ['\"ZIELINSKI', '  JOHN D\"', 'POLICE OFFICER', 'POLICE', 'F', 'Salary', '', '96060.00', ''], ['\"ZIELINSKI', '  KAREN L\"', 'TRAFFIC CONTROL AIDE-HOURLY', 'OEMC', 'P', 'Hourly', '20', '', '19.86'], ['\"ZIELINSKI', '  MICHAEL A\"', 'FIRE ENGINEER', 'FIRE', 'F', 'Salary', '', '100980.00', ''], ['\"ZIELINSKI', '  ROBERT C\"', 'POLICE OFFICER', 'POLICE', 'F', 'Salary', '', '93354.00', ''], ['\"ZIELINSKI', '  THEODORE J\"', 'PLUMBER', 'WATER MGMNT', 'F', 'Hourly', '40', '', '51.00'], ['\"ZIEMANN', '  DAVID M\"', 'CONSTRUCTION LABORER', 'WATER MGMNT', 'F', 'Hourly', '40', '', '43.72'], ['\"ZIEMANN', '  DONALD W\"', 'MOTOR TRUCK DRIVER', 'WATER MGMNT', 'F', 'Hourly', '40', '', '37.45'], ['\"ZIEMAN', '  ROBERT\"', 'POLICE OFFICER', 'POLICE', 'F', 'Salary', '', '84054.00', ''], ['\"ZIEMBA', '  DONALD P\"', 'FIREFIGHTER-EMT', 'FIRE', 'F', 'Salary', '', '95484.00', ''], ['\"ZIEMBA', '  JOSEPH M\"', 'POLICE COMMUNICATIONS OPERATOR II', 'OEMC', 'F', 'Salary', '', '85056.00', ''], ['\"ZIEMBA', '  LLOYD W\"', 'LIEUTENANT-EMT', 'FIRE', 'F', 'Salary', '', '117996.00', ''], ['\"ZIEMBA', '  TIM C\"', 'POLICE OFFICER', 'POLICE', 'F', 'Salary', '', '93354.00', ''], ['\"ZIENTARSKI', '  DAVID A\"', 'OPERATING ENGINEER-GROUP A', 'DAIS', 'F', 'Hourly', '40', '', '51.85'], ['\"ZIGELMAN', '  BENJAMIN M\"', 'LIBRARY CLERK', 'PUBLIC LIBRARY', 'F', 'Salary', '', '49092.00', ''], ['\"ZILCH', '  MARK\"', 'FIRE ENGINEER-EMT', 'FIRE', 'F', 'Salary', '', '99846.00', ''], ['\"ZILSKE', '  KEITH J\"', 'FIREFIGHTER-EMT', 'FIRE', 'F', 'Salary', '', '89148.00', ''], ['\"ZIMMERMAN', '  EDWARD A\"', 'MOTOR TRUCK DRIVER', 'AVIATION', 'F', 'Hourly', '40', '', '37.45'], ['\"ZIMMERMAN', '  LUCAS A\"', 'FIREFIGHTER-EMT (RECRUIT)', 'FIRE', 'F', 'Salary', '', '56304.00', ''], ['\"ZIMMERMAN', '  SARAH V\"', 'LIBRARIAN II', 'PUBLIC LIBRARY', 'F', 'Salary', '', '89916.00', ''], ['\"ZIMO', '  JOHN\"', 'FIRE ENGINEER-PARAMEDIC', 'FIRE', 'F', 'Salary', '', '105804.00', ''], ['\"ZIMOLAG', '  KONRAD M\"', 'POLICE OFFICER', 'POLICE', 'F', 'Salary', '', '68616.00', ''], ['\"ZIMS', '  NATEESHA A\"', 'AVIATION COMMUNICATIONS OPERATOR', 'AVIATION', 'F', 'Salary', '', '73992.00', ''], ['\"ZINCHUK', '  BRIAN C\"', 'OPERATING ENGINEER-GROUP A', 'WATER MGMNT', 'F', 'Hourly', '40', '', '51.85'], ['\"ZINCHUK', '  JOHN M\"', 'POLICE OFFICER', 'POLICE', 'F', 'Salary', '', '90024.00', ''], ['\"ZINK', '  JAMES H\"', 'FIREFIGHTER', 'FIRE', 'F', 'Salary', '', '87006.00', ''], ['\"ZIOLKOWSKI', '  THOMAS P\"', 'FIREFIGHTER/PARAMEDIC', 'FIRE', 'F', 'Salary', '', '91272.00', ''], ['\"ZIOMEK', '  MATTHEW G\"', 'AIRPORT OPERATIONS SUPVSR I', 'AVIATION', 'F', 'Salary', '', '73812.00', ''], ['\"ZIRNGIBL', '  DIANE M\"', 'STAFF ASST', 'AVIATION', 'F', 'Salary', '', '98496.00', ''], ['\"ZISWA', '  JESSICA D\"', 'ASST CORPORATION COUNSEL III', 'LAW', 'F', 'Salary', '', '78036.00', ''], ['\"ZITTNAN', '  VINCENT M\"', 'PARAMEDIC I/C', 'FIRE', 'F', 'Salary', '', '91080.00', ''], ['\"ZIVAT', '  MATTHEW\"', 'POLICE OFFICER', 'POLICE', 'F', 'Salary', '', '96060.00', ''], ['\"ZIVAT', '  MICHAEL\"', 'CONSTRUCTION LABORER', 'WATER MGMNT', 'F', 'Hourly', '40', '', '43.72'], ['\"ZIZUMBO', '  DANIEL\"', 'MOTOR TRUCK DRIVER', 'WATER MGMNT', 'F', 'Hourly', '40', '', '37.45'], ['\"ZIZUMBO', '  FABIOLA\"', 'SANITATION LABORER', 'STREETS & SAN', 'F', 'Hourly', '40', '', '38.52'], ['\"ZIZUMBO', '  JOSE N\"', 'MOTOR TRUCK DRIVER', 'STREETS & SAN', 'F', 'Hourly', '40', '', '38.01'], ['\"ZIZUMBO', '  LUIS\"', 'MOTOR TRUCK DRIVER', 'STREETS & SAN', 'F', 'Hourly', '40', '', '37.45'], ['\"ZIZZO', '  RUSS D\"', 'MOTOR TRUCK DRIVER', 'AVIATION', 'F', 'Hourly', '40', '', '37.45'], ['\"ZLOTKOWSKI', '  ERIC K\"', 'FIREFIGHTER-EMT (RECRUIT)', 'FIRE', 'F', 'Salary', '', '56304.00', ''], ['\"ZLOTKOWSKI', '  JEFFREY\"', 'POLICE OFFICER', 'POLICE', 'F', 'Salary', '', '96060.00', ''], ['\"ZOCHOWSKI', '  DAVID J\"', 'OPERATING ENGINEER-GROUP C', 'AVIATION', 'F', 'Hourly', '40', '', '49.26'], ['\"ZODO', '  ALEX J\"', 'POLICE OFFICER', 'POLICE', 'F', 'Salary', '', '90024.00', ''], ['\"ZODO', '  NICOLA E\"', 'LIEUTENANT', 'POLICE', 'F', 'Salary', '', '133446.00', ''], ['\"ZOGG', '  PAUL V\"', 'SERGEANT', 'POLICE', 'F', 'Salary', '', '118644.00', ''], ['\"ZOLLER', '  DANIEL F\"', 'FIREFIGHTER', 'FIRE', 'F', 'Salary', '', '93666.00', ''], ['\"ZOLLER', '  RICHARD S\"', 'POLICE OFFICER', 'POLICE', 'F', 'Salary', '', '93354.00', ''], ['\"ZOLLMER', '  MELISSA\"', 'POLICE OFFICER', 'POLICE', 'F', 'Salary', '', '76266.00', ''], ['\"ZOLLNER', '  BRIAN T\"', 'FIREFIGHTER-EMT', 'FIRE', 'F', 'Salary', '', '89148.00', ''], ['\"ZOLTEK', '  JOHN J\"', 'ELECTRICAL MECHANIC (AUTOMOTIVE)', 'DAIS', 'F', 'Hourly', '40', '', '49.35'], ['\"ZON', '  CHRISTOPHE K\"', 'FIRE ENGINEER', 'FIRE', 'F', 'Salary', '', '100980.00', ''], ['\"ZOOK', '  JOHN S\"', 'POLICE OFFICER', 'POLICE', 'F', 'Salary', '', '96060.00', ''], ['\"ZOOK', '  RIDLEY S\"', 'PUBLIC HEALTH NUTRITIONIST II', 'HEALTH', 'F', 'Salary', '', '50520.00', ''], ['\"ZORNIAK', '  ROMAN\"', 'FIREFIGHTER/PARAMEDIC', 'FIRE', 'F', 'Salary', '', '94476.00', ''], ['\"ZOTTA', '  FRANK\"', 'POLICE OFFICER', 'POLICE', 'F', 'Salary', '', '96060.00', ''], ['\"ZOTTA', '  SANDINO\"', 'MECHANICAL ENGINEER IV', 'WATER MGMNT', 'F', 'Salary', '', '117072.00', ''], ['\"ZOUBI', '  HAMZEH A\"', 'PROJECT MANAGER', 'DAIS', 'F', 'Salary', '', '96696.00', ''], ['\"ZOVKO', '  ERIKA\"', 'ADMINISTRATIVE ASST', \"MAYOR'S OFFICE\", 'F', 'Salary', '', '65976.00', ''], ['\"ZOVKO', '  RICHARD A\"', 'HOISTING ENGINEER - MECHANIC', 'DAIS', 'F', 'Hourly', '40', '', '54.10'], ['\"ZUBB', '  SHANNON M\"', 'POLICE OFFICER', 'POLICE', 'F', 'Salary', '', '87006.00', ''], ['\"ZUBECK', '  GINA M\"', 'POLICE OFFICER', 'POLICE', 'F', 'Salary', '', '93354.00', ''], ['\"ZUBECK', '  JAMES F\"', 'POLICE OFFICER', 'POLICE', 'F', 'Salary', '', '93354.00', ''], ['\"ZUBECK', '  JOHN\"', 'PLUMBER', 'WATER MGMNT', 'F', 'Hourly', '40', '', '51.00'], ['\"ZUBER', '  MICHAEL R\"', 'POLICE OFFICER (ASSIGNED AS DETECTIVE)', 'POLICE', 'F', 'Salary', '', '103932.00', ''], ['\"ZUBER', '  PATRICIA O\"', 'LIEUTENANT', 'POLICE', 'F', 'Salary', '', '137538.00', ''], ['\"ZUCCARELLI', '  ROBERT A\"', 'BRIDGE AND STRUCTURAL IRON WORKER', 'TRANSPORTN', 'F', 'Hourly', '40', '', '50.63'], ['\"ZUCCARO', '  GINA L\"', 'EXEC ADMINISTRATIVE ASST II', 'TREASURER', 'F', 'Salary', '', '58968.00', ''], ['\"ZUCKER', '  MICHAEL J\"', 'MACHINIST (AUTOMOTIVE)', 'DAIS', 'F', 'Hourly', '40', '', '48.93'], ['\"ZUELKE', '  CHRISTOPHER W\"', 'FIREFIGHTER/PARAMEDIC', 'FIRE', 'F', 'Salary', '', '94476.00', ''], ['\"ZUHR', '  ANTHONY D\"', 'FIREFIGHTER-EMT', 'FIRE', 'F', 'Salary', '', '92274.00', ''], ['\"ZUK', '  EDYTA\"', 'POLICE OFFICER', 'POLICE', 'F', 'Salary', '', '76266.00', ''], ['\"ZUKLIC', '  JASON M\"', 'FIREFIGHTER-EMT', 'FIRE', 'F', 'Salary', '', '92274.00', ''], ['\"ZULEVIC', '  JANAAN M\"', 'POLICE OFFICER', 'POLICE', 'F', 'Salary', '', '84054.00', ''], ['\"ZULKEY', '  JOSEPH\"', 'POLICE OFFICER (ASSIGNED AS DETECTIVE)', 'POLICE', 'F', 'Salary', '', '91080.00', ''], ['\"ZUMA', '  ERIK N\"', 'FIREFIGHTER-EMT (RECRUIT)', 'FIRE', 'F', 'Salary', '', '72510.00', ''], ['\"ZUMARAS', '  ANTHONY R\"', 'PARAMEDIC', 'FIRE', 'F', 'Salary', '', '76266.00', ''], ['\"ZUMARAS', '  ROLAND A\"', 'AIRPORT MAINTENANCE FOREMAN', 'AVIATION', 'F', 'Hourly', '40', '', '39.09'], ['\"ZUMARRAGA', '  JOSHUA D\"', 'POLICE OFFICER', 'POLICE', 'F', 'Salary', '', '68616.00', ''], ['\"ZUMARRAGA', '  NATHAN W\"', 'POLICE OFFICER', 'POLICE', 'F', 'Salary', '', '72510.00', ''], ['\"ZUMBROCK', '  JOHN M\"', 'POLICE OFFICER', 'POLICE', 'F', 'Salary', '', '90024.00', ''], ['\"ZUMMO', '  ROBERT J\"', 'MOTOR TRUCK DRIVER', 'STREETS & SAN', 'F', 'Hourly', '40', '', '37.45'], ['\"ZUNICH', '  JONATHAN G\"', 'SANITATION LABORER', 'STREETS & SAN', 'F', 'Hourly', '40', '', '38.52'], ['\"ZUNIGA JR', '  JAMES\"', 'FLEET SERVICES ASST', 'DAIS', 'F', 'Hourly', '40', '', '25.47'], ['\"ZUNIGA', '  JUAN M\"', 'POLICE OFFICER', 'POLICE', 'F', 'Salary', '', '90024.00', ''], ['\"ZUNIGA', '  JURDON\"', 'POLICE OFFICER', 'POLICE', 'F', 'Salary', '', '84054.00', ''], ['\"ZUNIGA', '  MILAGROS E\"', 'POOL MOTOR TRUCK DRIVER', 'AVIATION', 'F', 'Hourly', '40', '', '33.71'], ['\"ZUNIGA', '  NOE\"', 'POLICE OFFICER', 'POLICE', 'F', 'Salary', '', '80016.00', ''], ['\"ZUNIGA', '  OSCAR\"', 'POLICE OFFICER', 'POLICE', 'F', 'Salary', '', '84054.00', ''], ['\"ZUNIGA', '  RONALD\"', 'POLICE OFFICER', 'POLICE', 'F', 'Salary', '', '93354.00', ''], ['\"ZUNIGA', '  THOMAS\"', 'GENERAL LABORER - DSS', 'STREETS & SAN', 'F', 'Hourly', '40', '', '25.95'], ['\"ZUNIGA', '  VICENTE\"', 'FIREFIGHTER-EMT', 'FIRE', 'F', 'Salary', '', '92274.00', ''], ['\"ZUNO', '  ERIK\"', 'CONSTRUCTION LABORER', 'WATER MGMNT', 'F', 'Hourly', '40', '', '43.72'], ['\"ZUPAN', '  BILL M\"', 'LIEUTENANT-EMT', 'FIRE', 'F', 'Salary', '', '114324.00', ''], ['\"ZUPANCIC', '  KELLY\"', 'POLICE OFFICER', 'POLICE', 'F', 'Salary', '', '84054.00', ''], ['\"ZURAWSKI', '  JEFFREY\"', 'FRM OF MACHINISTS - AUTOMOTIVE', 'DAIS', 'F', 'Hourly', '40', '', '51.43'], ['\"ZURAWSKI', '  MAC Z\"', 'REFUSE COLLECTION COORD', 'STREETS & SAN', 'F', 'Salary', '', '89772.00', ''], ['\"ZURAWSKI', '  MARY E\"', 'POLICE OFFICER', 'POLICE', 'F', 'Salary', '', '96060.00', ''], ['\"ZUREK', '  FRANCIS\"', 'ELECTRICAL MECHANIC', 'PUBLIC SAFETY ADMIN', 'F', 'Hourly', '40', '', '49.35'], ['\"ZUREK', '  MARY H\"', 'SENIOR PUBLIC INFORMATION OFFICER', 'FINANCE', 'F', 'Salary', '', '96096.00', ''], ['\"ZURITA', '  ADRIEL\"', 'POLICE OFFICER', 'POLICE', 'F', 'Salary', '', '84054.00', ''], ['\"ZVANJA', '  TINA M\"', 'LEGAL SECRETARY', 'LAW', 'F', 'Salary', '', '85704.00', ''], ['\"ZWARYCZ', '  THOMAS J\"', 'MOTOR TRUCK DRIVER', 'WATER MGMNT', 'F', 'Hourly', '40', '', '37.45'], ['\"ZWIT', '  JEFFREY J\"', 'POLICE OFFICER', 'POLICE', 'F', 'Salary', '', '90024.00', ''], ['\"ZWOLFER', '  MATTHEW W\"', 'LIEUTENANT-EMT', 'FIRE', 'F', 'Salary', '', '117996.00', ''], ['\"ZYCH', '  LUKASZ\"', 'POLICE OFFICER', 'POLICE', 'F', 'Salary', '', '72510.00', ''], ['\"ZYCH', '  MATEUSZ\"', 'POLICE OFFICER', 'POLICE', 'F', 'Salary', '', '80016.00', ''], ['\"ZYDEK', '  BRYAN\"', 'POLICE OFFICER', 'POLICE', 'F', 'Salary', '', '87006.00', ''], ['\"ZYGMUNT', '  ARTUR\"', 'POLICE OFFICER', 'POLICE', 'F', 'Salary', '', '72510.00', ''], ['\"ZYGMUNT', '  DAWID\"', 'POLICE OFFICER', 'POLICE', 'F', 'Salary', '', '80016.00', ''], ['\"ZYLINSKA', '  KATARZYNA\"', 'POLICE OFFICER', 'POLICE', 'F', 'Salary', '', '80016.00', ''], ['\"ZYLINSKA', '  KLAUDIA\"', 'POLICE OFFICER', 'POLICE', 'F', 'Salary', '', '72510.00', ''], ['\"ZYMANTAS', '  LAURA C\"', 'POLICE OFFICER', 'POLICE', 'F', 'Salary', '', '76266.00', ''], ['\"ZYMANTAS', '  MARK E\"', 'POLICE OFFICER', 'POLICE', 'F', 'Salary', '', '90024.00', ''], ['\"ZYRKOWSKI', '  CARLO E\"', 'POLICE OFFICER', 'POLICE', 'F', 'Salary', '', '93354.00', ''], ['\"ZYSKOWSKI', '  DARIUSZ\"', 'CHIEF DATA BASE ANALYST', 'DAIS', 'F', 'Salary', '', '126732.00', ''], ['']]\n"
    }
   ],
   "source": [
    "print(full_data)"
   ]
  },
  {
   "cell_type": "code",
   "execution_count": null,
   "metadata": {},
   "outputs": [],
   "source": [
    "count = 0\n",
    "for linhas in full_data:\n",
    "    count += 1\n",
    "print(count)"
   ]
  }
 ],
 "metadata": {
  "language_info": {
   "codemirror_mode": {
    "name": "ipython",
    "version": 3
   },
   "file_extension": ".py",
   "mimetype": "text/x-python",
   "name": "python",
   "nbconvert_exporter": "python",
   "pygments_lexer": "ipython3",
   "version": "3.7.6-final"
  },
  "orig_nbformat": 2,
  "kernelspec": {
   "name": "python37664bitbasecondae1797f1665a5401db9a5814b5ddc2edc",
   "display_name": "Python 3.7.6 64-bit ('base': conda)"
  }
 },
 "nbformat": 4,
 "nbformat_minor": 2
}