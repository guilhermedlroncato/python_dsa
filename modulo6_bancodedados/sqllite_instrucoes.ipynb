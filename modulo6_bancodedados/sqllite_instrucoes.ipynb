{
 "cells": [
  {
   "cell_type": "code",
   "execution_count": 1,
   "metadata": {},
   "outputs": [],
   "source": [
    " import os\n",
    " #s.remove('dsa.db') if os.path.exists('dsa.db') else None"
   ]
  },
  {
   "cell_type": "code",
   "execution_count": 4,
   "metadata": {},
   "outputs": [],
   "source": [
    "import sqlite3\n",
    "import random\n",
    "import datetime\n",
    "import time\n",
    "\n",
    "#criando conexão\n",
    "con = sqlite3.connect('dsa.db')\n",
    "\n",
    "#criando cursor\n",
    "c = con.cursor()\n",
    "\n",
    "#função para criar tabela\n",
    "def create_table():\n",
    "    c.execute('create table if not exists produtos(id integer primary key autoincrement not null, date text, prod_name text, valor real)')\n",
    "\n",
    "def data_insert():\n",
    "    c.execute(\"insert into produtos values(10, '2018-05-05 14:32:32', 'Teclado', 90)\")\n",
    "    con.commit()\n",
    "    c.close()\n",
    "\n",
    "def data_insert_var(produto):\n",
    "    new_data = datetime.datetime.now()\n",
    "    new_prod_name = produto\n",
    "    new_valor = random.randrange(50, 100)\n",
    "    c.execute(\"insert into produtos (date, prod_name, valor) values (?, ?, ?)\", (new_data, new_prod_name, new_valor))\n",
    "    con.commit()\n",
    "\n",
    "def leitura_todos_dados(tabela):\n",
    "    c.execute(f'select * from {tabela}')\n",
    "    for linha in c.fetchall():\n",
    "        print(linha)\n",
    "\n",
    "def atualiza_dados():\n",
    "    c.execute('update produtos set valor = 99 where valor = 81')\n",
    "    con.commit()\n",
    "\n",
    "def remove_dados():\n",
    "    c.execute('delete from produtos where valor = 99')\n",
    "    con.commit()"
   ]
  },
  {
   "cell_type": "code",
   "execution_count": 34,
   "metadata": {},
   "outputs": [],
   "source": [
    "for i in range(10):\n",
    "    data_insert_var('TV')"
   ]
  },
  {
   "cell_type": "code",
   "execution_count": 5,
   "metadata": {},
   "outputs": [],
   "source": [
    "atualiza_dados()"
   ]
  },
  {
   "cell_type": "code",
   "execution_count": 6,
   "metadata": {},
   "outputs": [],
   "source": [
    "remove_dados()"
   ]
  },
  {
   "cell_type": "code",
   "execution_count": 7,
   "metadata": {},
   "outputs": [
    {
     "output_type": "stream",
     "name": "stdout",
     "text": "(10, '2018-05-05 14:32:32', 'Teclado', 90.0)\n(11, '2020-05-12 14:08:59.878022', 'Monitor', 65.0)\n(12, '2020-05-12 14:09:01.760778', 'Monitor', 79.0)\n(13, '2020-05-12 14:09:01.843965', 'Monitor', 89.0)\n(15, '2020-05-12 14:09:02.039471', 'Monitor', 97.0)\n(16, '2020-05-12 14:09:02.124082', 'Monitor', 78.0)\n(18, '2020-05-12 14:09:02.292988', 'Monitor', 86.0)\n(19, '2020-05-12 14:09:02.370445', 'Monitor', 84.0)\n(21, '2020-05-12 14:10:23.060978', 'TV', 57.0)\n(22, '2020-05-12 14:10:24.901848', 'TV', 59.0)\n(24, '2020-05-12 14:10:25.092943', 'TV', 53.0)\n(26, '2020-05-12 14:10:25.263219', 'TV', 83.0)\n(28, '2020-05-12 14:10:25.422310', 'TV', 50.0)\n(29, '2020-05-12 14:10:25.526467', 'TV', 79.0)\n(30, '2020-05-12 14:10:25.603849', 'TV', 91.0)\n"
    }
   ],
   "source": [
    "leitura_todos_dados('produtos')"
   ]
  },
  {
   "cell_type": "code",
   "execution_count": 8,
   "metadata": {},
   "outputs": [],
   "source": [
    "c.close()\n",
    "con.close()"
   ]
  }
 ],
 "metadata": {
  "language_info": {
   "codemirror_mode": {
    "name": "ipython",
    "version": 3
   },
   "file_extension": ".py",
   "mimetype": "text/x-python",
   "name": "python",
   "nbconvert_exporter": "python",
   "pygments_lexer": "ipython3",
   "version": "3.7.6-final"
  },
  "orig_nbformat": 2,
  "kernelspec": {
   "name": "python37664bitbasecondae1797f1665a5401db9a5814b5ddc2edc",
   "display_name": "Python 3.7.6 64-bit ('base': conda)"
  }
 },
 "nbformat": 4,
 "nbformat_minor": 2
}