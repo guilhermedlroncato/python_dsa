{
 "cells": [
  {
   "cell_type": "code",
   "execution_count": 1,
   "metadata": {},
   "outputs": [],
   "source": [
    "from pymongo import MongoClient"
   ]
  },
  {
   "cell_type": "code",
   "execution_count": 2,
   "metadata": {},
   "outputs": [],
   "source": [
    "# Estabelecendo conexão ao Mongo\n",
    "con = MongoClient('localhost', 27017)"
   ]
  },
  {
   "cell_type": "code",
   "execution_count": 3,
   "metadata": {},
   "outputs": [
    {
     "output_type": "execute_result",
     "data": {
      "text/plain": "pymongo.mongo_client.MongoClient"
     },
     "metadata": {},
     "execution_count": 3
    }
   ],
   "source": [
    "type(con)"
   ]
  },
  {
   "cell_type": "code",
   "execution_count": 4,
   "metadata": {},
   "outputs": [],
   "source": [
    "db = con.cadastrodb"
   ]
  },
  {
   "cell_type": "code",
   "execution_count": 5,
   "metadata": {},
   "outputs": [
    {
     "output_type": "execute_result",
     "data": {
      "text/plain": "pymongo.database.Database"
     },
     "metadata": {},
     "execution_count": 5
    }
   ],
   "source": [
    "type(db)"
   ]
  },
  {
   "cell_type": "code",
   "execution_count": 6,
   "metadata": {},
   "outputs": [],
   "source": [
    "collection = db.cadastrodb"
   ]
  },
  {
   "cell_type": "code",
   "execution_count": 7,
   "metadata": {},
   "outputs": [
    {
     "output_type": "execute_result",
     "data": {
      "text/plain": "pymongo.collection.Collection"
     },
     "metadata": {},
     "execution_count": 7
    }
   ],
   "source": [
    "type(collection)"
   ]
  },
  {
   "cell_type": "code",
   "execution_count": 8,
   "metadata": {},
   "outputs": [],
   "source": [
    "import datetime"
   ]
  },
  {
   "cell_type": "code",
   "execution_count": 16,
   "metadata": {},
   "outputs": [],
   "source": [
    "post1 = {'codigo' : 'ID-9997787',\n",
    "         'prod_name': 'Geladeira',\n",
    "         'marcas': ['Brastemp', 'Consul', 'Eletrolux'],\n",
    "         'data_cadastro' : datetime.datetime.now()}"
   ]
  },
  {
   "cell_type": "code",
   "execution_count": 10,
   "metadata": {},
   "outputs": [],
   "source": [
    "collection = db.posts"
   ]
  },
  {
   "cell_type": "code",
   "execution_count": 11,
   "metadata": {},
   "outputs": [],
   "source": [
    "post_id = collection.insert_one(post1)"
   ]
  },
  {
   "cell_type": "code",
   "execution_count": 12,
   "metadata": {},
   "outputs": [
    {
     "output_type": "execute_result",
     "data": {
      "text/plain": "ObjectId('5ebc3cb41b1b5abe3c68a317')"
     },
     "metadata": {},
     "execution_count": 12
    }
   ],
   "source": [
    "post_id.inserted_id"
   ]
  },
  {
   "cell_type": "code",
   "execution_count": 13,
   "metadata": {},
   "outputs": [
    {
     "output_type": "execute_result",
     "data": {
      "text/plain": "<pymongo.results.InsertOneResult at 0x1c38a687fc8>"
     },
     "metadata": {},
     "execution_count": 13
    }
   ],
   "source": [
    "post_id"
   ]
  },
  {
   "cell_type": "code",
   "execution_count": 15,
   "metadata": {},
   "outputs": [],
   "source": [
    "post2 = {'codigo' : 'ID-397787',\n",
    "         'prod_name': 'Televisão',\n",
    "         'marcas': ['Samsung', 'Sony', 'LG'],\n",
    "         'data_cadastro' : datetime.datetime.now()}"
   ]
  },
  {
   "cell_type": "code",
   "execution_count": 18,
   "metadata": {},
   "outputs": [
    {
     "output_type": "execute_result",
     "data": {
      "text/plain": "ObjectId('5ebc3d7a1b1b5abe3c68a318')"
     },
     "metadata": {},
     "execution_count": 18
    }
   ],
   "source": [
    "collection = db.posts\n",
    "post_id = collection.insert_one(post2)\n",
    "post_id.inserted_id"
   ]
  },
  {
   "cell_type": "code",
   "execution_count": 19,
   "metadata": {},
   "outputs": [
    {
     "output_type": "stream",
     "name": "stdout",
     "text": "{'_id': ObjectId('5ebc3cb41b1b5abe3c68a317'), 'codigo': 'ID-9997787', 'prod_name': 'Geladeira', 'marcas': ['Brastemp', 'Consul', 'Eletrolux'], 'data_cadastro': datetime.datetime(2020, 5, 13, 15, 29, 3, 11000)}\n{'_id': ObjectId('5ebc3d7a1b1b5abe3c68a318'), 'codigo': 'ID-397787', 'prod_name': 'Televisão', 'marcas': ['Samsung', 'Sony', 'LG'], 'data_cadastro': datetime.datetime(2020, 5, 13, 15, 32, 20, 456000)}\n"
    }
   ],
   "source": [
    "for post in collection.find():\n",
    "    print(post)"
   ]
  },
  {
   "cell_type": "code",
   "execution_count": 20,
   "metadata": {},
   "outputs": [
    {
     "output_type": "execute_result",
     "data": {
      "text/plain": "'cadastrodb'"
     },
     "metadata": {},
     "execution_count": 20
    }
   ],
   "source": [
    "db.name"
   ]
  },
  {
   "cell_type": "code",
   "execution_count": 21,
   "metadata": {},
   "outputs": [
    {
     "output_type": "execute_result",
     "data": {
      "text/plain": "['posts']"
     },
     "metadata": {},
     "execution_count": 21
    }
   ],
   "source": [
    "db.collection_names()"
   ]
  }
 ],
 "metadata": {
  "language_info": {
   "codemirror_mode": {
    "name": "ipython",
    "version": 3
   },
   "file_extension": ".py",
   "mimetype": "text/x-python",
   "name": "python",
   "nbconvert_exporter": "python",
   "pygments_lexer": "ipython3",
   "version": "3.7.6-final"
  },
  "orig_nbformat": 2,
  "kernelspec": {
   "name": "python37664bitbasecondae1797f1665a5401db9a5814b5ddc2edc",
   "display_name": "Python 3.7.6 64-bit ('base': conda)"
  }
 },
 "nbformat": 4,
 "nbformat_minor": 2
}