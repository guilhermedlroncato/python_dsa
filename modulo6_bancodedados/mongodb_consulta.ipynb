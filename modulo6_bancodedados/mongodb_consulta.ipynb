{
 "cells": [
  {
   "cell_type": "code",
   "execution_count": 23,
   "metadata": {},
   "outputs": [],
   "source": [
    "import pymongo"
   ]
  },
  {
   "cell_type": "code",
   "execution_count": 24,
   "metadata": {},
   "outputs": [],
   "source": [
    "# Criando conexão com o Mongo\n",
    "client_con = pymongo.MongoClient()"
   ]
  },
  {
   "cell_type": "code",
   "execution_count": 25,
   "metadata": {},
   "outputs": [
    {
     "output_type": "execute_result",
     "data": {
      "text/plain": "['admin', 'cadastrodb', 'config', 'local']"
     },
     "metadata": {},
     "execution_count": 25
    }
   ],
   "source": [
    "# Listando bancos de dados disponiveis\n",
    "client_con.database_names()"
   ]
  },
  {
   "cell_type": "code",
   "execution_count": 28,
   "metadata": {},
   "outputs": [],
   "source": [
    "# Definindo o objeto do DB\n",
    "db = client_con.cadastrodb"
   ]
  },
  {
   "cell_type": "code",
   "execution_count": 31,
   "metadata": {},
   "outputs": [
    {
     "output_type": "execute_result",
     "data": {
      "text/plain": "['mycollection', 'posts']"
     },
     "metadata": {},
     "execution_count": 31
    }
   ],
   "source": [
    "# Listando as coleções disponiveis no banco selecionado\n",
    "db.collection_names()"
   ]
  },
  {
   "cell_type": "code",
   "execution_count": 30,
   "metadata": {},
   "outputs": [
    {
     "output_type": "execute_result",
     "data": {
      "text/plain": "Collection(Database(MongoClient(host=['localhost:27017'], document_class=dict, tz_aware=False, connect=True), 'cadastrodb'), 'mycollection')"
     },
     "metadata": {},
     "execution_count": 30
    }
   ],
   "source": [
    "# Criando uma nova coleção (tabela)\n",
    "db.create_collection('mycollection')"
   ]
  },
  {
   "cell_type": "code",
   "execution_count": 32,
   "metadata": {},
   "outputs": [
    {
     "output_type": "execute_result",
     "data": {
      "text/plain": "<pymongo.results.InsertOneResult at 0x1c38bbf4a88>"
     },
     "metadata": {},
     "execution_count": 32
    }
   ],
   "source": [
    "# Inserindo um documento na coleção criada\n",
    "db.mycollection.insert_one({\n",
    "    'titulo' : 'MongoDB com Python ',\n",
    "    'descricao' : 'MongoDB é um Banco de Dados NoSQL',\n",
    "    'by' : 'Data Science Academy',\n",
    "    'url' : 'http://www.datascienceacademy.com.br',\n",
    "    'tags' : ['mongodb', 'database', 'NoSQL'],\n",
    "    'likes' : 100\n",
    "})"
   ]
  },
  {
   "cell_type": "code",
   "execution_count": 33,
   "metadata": {},
   "outputs": [
    {
     "output_type": "execute_result",
     "data": {
      "text/plain": "{'_id': ObjectId('5ebc3fbe1b1b5abe3c68a31a'),\n 'titulo': 'MongoDB com Python ',\n 'descricao': 'MongoDB é um Banco de Dados NoSQL',\n 'by': 'Data Science Academy',\n 'url': 'http://www.datascienceacademy.com.br',\n 'tags': ['mongodb', 'database', 'NoSQL'],\n 'likes': 100}"
     },
     "metadata": {},
     "execution_count": 33
    }
   ],
   "source": [
    "# Retornando o documento criado\n",
    "db.mycollection.find_one()"
   ]
  },
  {
   "cell_type": "code",
   "execution_count": 34,
   "metadata": {},
   "outputs": [],
   "source": [
    "# Preparando um documento\n",
    "doc1 = {'Nome' : 'Donald', 'Sobrenome' : 'Trump', 'Twitter' : '@POTUS'}"
   ]
  },
  {
   "cell_type": "code",
   "execution_count": 35,
   "metadata": {},
   "outputs": [
    {
     "output_type": "execute_result",
     "data": {
      "text/plain": "<pymongo.results.InsertOneResult at 0x1c38ab64f08>"
     },
     "metadata": {},
     "execution_count": 35
    }
   ],
   "source": [
    "# Inserindo Documento\n",
    "db.mycollection.insert_one(doc1)"
   ]
  },
  {
   "cell_type": "code",
   "execution_count": 36,
   "metadata": {},
   "outputs": [],
   "source": [
    "# Preparando um documento\n",
    "doc2 = {'Site' : 'https://www.datascienceacademy.com.br', 'facebook' : 'facebook.com/dsacademy'}"
   ]
  },
  {
   "cell_type": "code",
   "execution_count": 37,
   "metadata": {},
   "outputs": [
    {
     "output_type": "execute_result",
     "data": {
      "text/plain": "<pymongo.results.InsertOneResult at 0x1c389e7ed88>"
     },
     "metadata": {},
     "execution_count": 37
    }
   ],
   "source": [
    "db.mycollection.insert_one(doc2)"
   ]
  },
  {
   "cell_type": "code",
   "execution_count": 38,
   "metadata": {},
   "outputs": [
    {
     "output_type": "stream",
     "name": "stdout",
     "text": "{'_id': ObjectId('5ebc3fbe1b1b5abe3c68a31a'), 'titulo': 'MongoDB com Python ', 'descricao': 'MongoDB é um Banco de Dados NoSQL', 'by': 'Data Science Academy', 'url': 'http://www.datascienceacademy.com.br', 'tags': ['mongodb', 'database', 'NoSQL'], 'likes': 100}\n{'_id': ObjectId('5ebc40531b1b5abe3c68a31b'), 'Nome': 'Donald', 'Sobrenome': 'Trump', 'Twitter': '@POTUS'}\n{'_id': ObjectId('5ebc40a91b1b5abe3c68a31c'), 'Site': 'https://www.datascienceacademy.com.br', 'facebook': 'facebook.com/dsacademy'}\n"
    }
   ],
   "source": [
    "# Retornando os documentos de uma coleção\n",
    "for docs in db.mycollection.find():\n",
    "    print(docs)"
   ]
  },
  {
   "cell_type": "code",
   "execution_count": 39,
   "metadata": {},
   "outputs": [],
   "source": [
    "# Conectando em uma collection\n",
    "col = db['mycollection']"
   ]
  },
  {
   "cell_type": "code",
   "execution_count": 41,
   "metadata": {},
   "outputs": [
    {
     "output_type": "execute_result",
     "data": {
      "text/plain": "3"
     },
     "metadata": {},
     "execution_count": 41
    }
   ],
   "source": [
    "col.count()"
   ]
  },
  {
   "cell_type": "code",
   "execution_count": 42,
   "metadata": {},
   "outputs": [
    {
     "output_type": "execute_result",
     "data": {
      "text/plain": "{'_id': ObjectId('5ebc3fbe1b1b5abe3c68a31a'),\n 'titulo': 'MongoDB com Python ',\n 'descricao': 'MongoDB é um Banco de Dados NoSQL',\n 'by': 'Data Science Academy',\n 'url': 'http://www.datascienceacademy.com.br',\n 'tags': ['mongodb', 'database', 'NoSQL'],\n 'likes': 100}"
     },
     "metadata": {},
     "execution_count": 42
    }
   ],
   "source": [
    "col.find_one()"
   ]
  }
 ],
 "metadata": {
  "language_info": {
   "codemirror_mode": {
    "name": "ipython",
    "version": 3
   },
   "file_extension": ".py",
   "mimetype": "text/x-python",
   "name": "python",
   "nbconvert_exporter": "python",
   "pygments_lexer": "ipython3",
   "version": "3.7.6-final"
  },
  "orig_nbformat": 2,
  "kernelspec": {
   "name": "python37664bitbasecondae1797f1665a5401db9a5814b5ddc2edc",
   "display_name": "Python 3.7.6 64-bit ('base': conda)"
  }
 },
 "nbformat": 4,
 "nbformat_minor": 2
}