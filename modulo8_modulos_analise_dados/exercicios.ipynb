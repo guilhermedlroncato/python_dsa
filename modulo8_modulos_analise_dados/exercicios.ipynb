{
 "cells": [
  {
   "cell_type": "code",
   "execution_count": 42,
   "metadata": {},
   "outputs": [],
   "source": [
    "import numpy as np\n",
    "import pandas as pd"
   ]
  },
  {
   "cell_type": "code",
   "execution_count": 52,
   "metadata": {},
   "outputs": [
    {
     "output_type": "stream",
     "name": "stdout",
     "text": "a =  [ 0  1  2  3  4  5  6  7  8  9 10 11 12 13 14 15 16 17 18 19 20 21 22 23\n 24 25 26 27 28 29 30 31 32 33 34 35 36 37 38 39 40 41 42 43 44 45 46 47\n 48 49 50 51 52 53 54 55 56 57 58 59 60 61 62 63 64 65 66 67 68 69 70 71\n 72 73 74 75 76 77 78 79 80 81 82 83 84 85 86 87 88 89 90 91 92 93 94 95\n 96 97 98 99]\nb =  [0, 1, 2, 3, 4, 5, 6, 7, 8, 9, 10, 11, 12, 13, 14, 15, 16, 17, 18, 19, 20, 21, 22, 23, 24, 25, 26, 27, 28, 29, 30, 31, 32, 33, 34, 35, 36, 37, 38, 39, 40, 41, 42, 43, 44, 45, 46, 47, 48, 49, 50, 51, 52, 53, 54, 55, 56, 57, 58, 59, 60, 61, 62, 63, 64, 65, 66, 67, 68, 69, 70, 71, 72, 73, 74, 75, 76, 77, 78, 79, 80, 81, 82, 83, 84, 85, 86, 87, 88, 89, 90, 91, 92, 93, 94, 95, 96, 97, 98, 99]\n"
    }
   ],
   "source": [
    "# EXERCICIO - 01\n",
    "# Crie um array NumPy com 1000000 e uma lista com 1000000.\n",
    "# Multiplique cada elemento do array e da lista por 2 e calcule o tempo de execução com cada um dos objetos (use %time).\n",
    "# Qual objeto oferece melhor performance, array NumPy ou lista?\n",
    "\n",
    "a = np.arange(100)\n",
    "print('a = ', a)\n",
    "\n",
    "l = [x for x in range(100)]\n",
    "print('b = ', l)"
   ]
  },
  {
   "cell_type": "code",
   "execution_count": 58,
   "metadata": {},
   "outputs": [
    {
     "output_type": "stream",
     "name": "stdout",
     "text": "[0 1 2 3 4 5 6 7 8 9]\n[0 1 2 3 4 0 0 0 0 9]\n"
    }
   ],
   "source": [
    "# EXRRCICIO - 02\n",
    "# Crie um array de 10 elementos\n",
    "# Altere o valores de todos os elementos dos índices 5 a 8 para 0\n",
    "\n",
    "# criando o array\n",
    "a = np.arange(10)\n",
    "print(a)\n",
    "\n",
    "# alterando os valores dos indices de 5 a 8\n",
    "a[5:9] = 0\n",
    "print(a)"
   ]
  },
  {
   "cell_type": "code",
   "execution_count": 62,
   "metadata": {},
   "outputs": [
    {
     "output_type": "execute_result",
     "data": {
      "text/plain": "array([4, 5, 6])"
     },
     "metadata": {},
     "execution_count": 62
    }
   ],
   "source": [
    "# EXERCICIO - 03\n",
    "# Crie um array de 3 dimensões e imprima a dimensão 1\n",
    "\n",
    "a = np.array([[1, 2, 3], [4, 5, 6], [7, 8, 9]])\n",
    "\n",
    "a[1]"
   ]
  },
  {
   "cell_type": "code",
   "execution_count": 88,
   "metadata": {},
   "outputs": [
    {
     "output_type": "stream",
     "name": "stdout",
     "text": "Matriz\n [[1 2 3]\n [4 5 6]\n [7 8 9]]\nElementos Terceira linha\n [7 8 9]\nElementos da primeira e segundas linhas\n [[1 2 3]\n [4 5 6]] \nE segunda e terceira coluna\n [[2 5 8]\n [3 6 9]]\n"
    }
   ],
   "source": [
    "# EXERCICIO - 04\n",
    "# Crie um array de duas dimensões (matriz).\n",
    "# Imprima os elementos da terceira linha da matriz\n",
    "# Imprima todos os elementos da primeira e segunda linhas e segunda e terceira colunas\n",
    "\n",
    "#Criando a matriz\n",
    "matrix = np.array([[1, 2, 3], [4, 5, 6], [7, 8, 9]])\n",
    "\n",
    "print('Matriz\\n',matrix)\n",
    "\n",
    "print('Elementos Terceira linha\\n',matrix[2])\n",
    "\n",
    "print('Elementos da primeira e segundas linhas\\n', matrix[0:2], '\\nE segunda e terceira coluna\\n', matrix.transpose()[1:3])"
   ]
  },
  {
   "cell_type": "code",
   "execution_count": 96,
   "metadata": {},
   "outputs": [
    {
     "output_type": "stream",
     "name": "stdout",
     "text": "Matrix Original\n [[ 0  1  2  3  4]\n [ 5  6  7  8  9]\n [10 11 12 13 14]]\nMatrix Transposta\n [[ 0  5 10]\n [ 1  6 11]\n [ 2  7 12]\n [ 3  8 13]\n [ 4  9 14]]\n"
    }
   ],
   "source": [
    "# EXERCICIO - 05\n",
    "# Calcule a transposta da matriz abaixo\n",
    "arr = np.arange(15).reshape((3, 5))\n",
    "print('Matrix Original\\n',arr)\n",
    "\n",
    "#matrix transposta de arr\n",
    "arr1 = arr.transpose()\n",
    "print('Matrix Transposta\\n',arr1)"
   ]
  },
  {
   "cell_type": "code",
   "execution_count": 170,
   "metadata": {},
   "outputs": [
    {
     "output_type": "stream",
     "name": "stdout",
     "text": "[1.1 2.2 1.3 1.4 2.5]\n"
    }
   ],
   "source": [
    "# EXERCICIO - 06\n",
    "# Considere os 3 arrays abaixo\n",
    "# Retorne o valor do array xarr se o valor for True no array cond. Caso contrário, retorne o valor do array yarr.\n",
    "\n",
    "i = 0\n",
    "xarr = np.array([1.1, 1.2, 1.3, 1.4, 1.5])\n",
    "yarr = np.array([2.1, 2.2, 2.3, 2.4, 2.5])\n",
    "cond = np.array([True, False, True, True, False])\n",
    "new = np.arange(float(len(xarr)))\n",
    "\n",
    "for x in cond:\n",
    "    if x:\n",
    "        new[i] = xarr[i]\n",
    "    else:\n",
    "        new[i] = yarr[i]\n",
    "    i += 1\n",
    "\n",
    "print(new)"
   ]
  },
  {
   "cell_type": "code",
   "execution_count": 176,
   "metadata": {},
   "outputs": [
    {
     "output_type": "stream",
     "name": "stdout",
     "text": "[0 1 2 3 4 5 6 7 8 9]\n"
    }
   ],
   "source": [
    "# EXERCICIO - 07\n",
    "# Crie um array A com 10 elementos e salve o array em disco com a extensão npy\n",
    "# Depois carregue o array do disco no array B\n",
    "\n",
    "#Gera array com 10 posições \n",
    "a = np.arange(10)\n",
    "\n",
    "# salva o array no arquivo array.npy\n",
    "np.save('array.npy', a)\n",
    "\n",
    "# cria array b com os dados do arquvio array.npy\n",
    "b = np.load('array.npy')\n",
    "\n",
    "print(b)"
   ]
  },
  {
   "cell_type": "code",
   "execution_count": 180,
   "metadata": {},
   "outputs": [
    {
     "output_type": "execute_result",
     "data": {
      "text/plain": "array(['c', 'a', 'd', 'b'], dtype=object)"
     },
     "metadata": {},
     "execution_count": 180
    }
   ],
   "source": [
    "# EXERCICIO - 08\n",
    "# Considerando a série abaixo, imprima os valores únicos na série\n",
    "obj = pd.Series(['c', 'a', 'd', 'a', 'a', 'b', 'b', 'c', 'c', 'a', 'b'])\n",
    "\n",
    "#imprimindo os valores unicos\n",
    "obj.unique()"
   ]
  },
  {
   "cell_type": "code",
   "execution_count": 195,
   "metadata": {},
   "outputs": [
    {
     "output_type": "execute_result",
     "data": {
      "text/plain": "    number  ... state\n0    34265  ...  open\n1    34264  ...  open\n2    34263  ...  open\n3    34262  ...  open\n4    34261  ...  open\n5    34259  ...  open\n6    34258  ...  open\n7    34257  ...  open\n8    34256  ...  open\n9    34255  ...  open\n10   34254  ...  open\n11   34253  ...  open\n12   34252  ...  open\n13   34251  ...  open\n14   34249  ...  open\n15   34248  ...  open\n16   34244  ...  open\n17   34243  ...  open\n18   34241  ...  open\n19   34240  ...  open\n20   34238  ...  open\n21   34237  ...  open\n22   34236  ...  open\n23   34235  ...  open\n24   34233  ...  open\n25   34231  ...  open\n26   34229  ...  open\n27   34228  ...  open\n28   34226  ...  open\n29   34225  ...  open\n\n[30 rows x 4 columns]",
      "text/html": "<div>\n<style scoped>\n    .dataframe tbody tr th:only-of-type {\n        vertical-align: middle;\n    }\n\n    .dataframe tbody tr th {\n        vertical-align: top;\n    }\n\n    .dataframe thead th {\n        text-align: right;\n    }\n</style>\n<table border=\"1\" class=\"dataframe\">\n  <thead>\n    <tr style=\"text-align: right;\">\n      <th></th>\n      <th>number</th>\n      <th>title</th>\n      <th>labels</th>\n      <th>state</th>\n    </tr>\n  </thead>\n  <tbody>\n    <tr>\n      <th>0</th>\n      <td>34265</td>\n      <td>REF: Make WeekOfMonthMixin a cdef class</td>\n      <td>[]</td>\n      <td>open</td>\n    </tr>\n    <tr>\n      <th>1</th>\n      <td>34264</td>\n      <td>REF: make YearOffset a cdef class</td>\n      <td>[]</td>\n      <td>open</td>\n    </tr>\n    <tr>\n      <th>2</th>\n      <td>34263</td>\n      <td>REF: Implement RelativeDeltaOffset</td>\n      <td>[]</td>\n      <td>open</td>\n    </tr>\n    <tr>\n      <th>3</th>\n      <td>34262</td>\n      <td>REF: FY5253Mixin to share methods</td>\n      <td>[]</td>\n      <td>open</td>\n    </tr>\n    <tr>\n      <th>4</th>\n      <td>34261</td>\n      <td>DOC, ENH: Clarify ExcelFile's available engine...</td>\n      <td>[]</td>\n      <td>open</td>\n    </tr>\n    <tr>\n      <th>5</th>\n      <td>34259</td>\n      <td>Allow merge_asof on first column of like-level...</td>\n      <td>[{'id': 71268330, 'node_id': 'MDU6TGFiZWw3MTI2...</td>\n      <td>open</td>\n    </tr>\n    <tr>\n      <th>6</th>\n      <td>34258</td>\n      <td>CI: temporarily disable interval in feather te...</td>\n      <td>[{'id': 48070600, 'node_id': 'MDU6TGFiZWw0ODA3...</td>\n      <td>open</td>\n    </tr>\n    <tr>\n      <th>7</th>\n      <td>34257</td>\n      <td>ENH: DataFrame.replace does not work with dict...</td>\n      <td>[{'id': 76812, 'node_id': 'MDU6TGFiZWw3NjgxMg=...</td>\n      <td>open</td>\n    </tr>\n    <tr>\n      <th>8</th>\n      <td>34256</td>\n      <td>BUG: DataFrame.isin fails when other is a cate...</td>\n      <td>[{'id': 76811, 'node_id': 'MDU6TGFiZWw3NjgxMQ=...</td>\n      <td>open</td>\n    </tr>\n    <tr>\n      <th>9</th>\n      <td>34255</td>\n      <td>CI: Linux py37_locale failing with pyarrow 0.17.1</td>\n      <td>[{'id': 48070600, 'node_id': 'MDU6TGFiZWw0ODA3...</td>\n      <td>open</td>\n    </tr>\n    <tr>\n      <th>10</th>\n      <td>34254</td>\n      <td>ENH: Is possible use rename for flatten MultiI...</td>\n      <td>[{'id': 76812, 'node_id': 'MDU6TGFiZWw3NjgxMg=...</td>\n      <td>open</td>\n    </tr>\n    <tr>\n      <th>11</th>\n      <td>34253</td>\n      <td>Make option_context a ContextDecorator.</td>\n      <td>[{'id': 35818298, 'node_id': 'MDU6TGFiZWwzNTgx...</td>\n      <td>open</td>\n    </tr>\n    <tr>\n      <th>12</th>\n      <td>34252</td>\n      <td>pd.set_option(\"io.excel.xlsx.reader\", \"openpyx...</td>\n      <td>[{'id': 76811, 'node_id': 'MDU6TGFiZWw3NjgxMQ=...</td>\n      <td>open</td>\n    </tr>\n    <tr>\n      <th>13</th>\n      <td>34251</td>\n      <td>BUG: 'Series' objects are mutable, thus they c...</td>\n      <td>[{'id': 76811, 'node_id': 'MDU6TGFiZWw3NjgxMQ=...</td>\n      <td>open</td>\n    </tr>\n    <tr>\n      <th>14</th>\n      <td>34249</td>\n      <td>ENH: to_sql option for progress_bar</td>\n      <td>[{'id': 76812, 'node_id': 'MDU6TGFiZWw3NjgxMg=...</td>\n      <td>open</td>\n    </tr>\n    <tr>\n      <th>15</th>\n      <td>34248</td>\n      <td>ENH: Add dtype-support for pandas' type-hinting</td>\n      <td>[{'id': 76812, 'node_id': 'MDU6TGFiZWw3NjgxMg=...</td>\n      <td>open</td>\n    </tr>\n    <tr>\n      <th>16</th>\n      <td>34244</td>\n      <td>ENH: Support out-of-band pickling (protocol 5)</td>\n      <td>[{'id': 76812, 'node_id': 'MDU6TGFiZWw3NjgxMg=...</td>\n      <td>open</td>\n    </tr>\n    <tr>\n      <th>17</th>\n      <td>34243</td>\n      <td>CLN: remove get_base_alias</td>\n      <td>[{'id': 53181044, 'node_id': 'MDU6TGFiZWw1MzE4...</td>\n      <td>open</td>\n    </tr>\n    <tr>\n      <th>18</th>\n      <td>34241</td>\n      <td>CLN: Remove util.is_offset_object</td>\n      <td>[{'id': 211029535, 'node_id': 'MDU6TGFiZWwyMTE...</td>\n      <td>open</td>\n    </tr>\n    <tr>\n      <th>19</th>\n      <td>34240</td>\n      <td>BUG: PeriodIndex.get_loc should raise KeyError</td>\n      <td>[{'id': 76811, 'node_id': 'MDU6TGFiZWw3NjgxMQ=...</td>\n      <td>open</td>\n    </tr>\n    <tr>\n      <th>20</th>\n      <td>34238</td>\n      <td>API: implement ObjectIndex to take place of Index</td>\n      <td>[{'id': 35818298, 'node_id': 'MDU6TGFiZWwzNTgx...</td>\n      <td>open</td>\n    </tr>\n    <tr>\n      <th>21</th>\n      <td>34237</td>\n      <td>BUG:pd.read_excel does not read xlsb</td>\n      <td>[{'id': 134699, 'node_id': 'MDU6TGFiZWwxMzQ2OT...</td>\n      <td>open</td>\n    </tr>\n    <tr>\n      <th>22</th>\n      <td>34236</td>\n      <td>BUG: Fix validation script not printing docstr...</td>\n      <td>[{'id': 134699, 'node_id': 'MDU6TGFiZWwxMzQ2OT...</td>\n      <td>open</td>\n    </tr>\n    <tr>\n      <th>23</th>\n      <td>34235</td>\n      <td>BUG: pandas.groupby([A, B]).sum(level='B') giv...</td>\n      <td>[{'id': 76811, 'node_id': 'MDU6TGFiZWw3NjgxMQ=...</td>\n      <td>open</td>\n    </tr>\n    <tr>\n      <th>24</th>\n      <td>34233</td>\n      <td>REF: do length-checks in boilerplate decorator</td>\n      <td>[{'id': 127681, 'node_id': 'MDU6TGFiZWwxMjc2OD...</td>\n      <td>open</td>\n    </tr>\n    <tr>\n      <th>25</th>\n      <td>34231</td>\n      <td>ENH: skip_blank_columns in read_csv</td>\n      <td>[{'id': 76812, 'node_id': 'MDU6TGFiZWw3NjgxMg=...</td>\n      <td>open</td>\n    </tr>\n    <tr>\n      <th>26</th>\n      <td>34229</td>\n      <td>DOC: Improve docstring of Series/DataFrame.bool</td>\n      <td>[{'id': 134699, 'node_id': 'MDU6TGFiZWwxMzQ2OT...</td>\n      <td>open</td>\n    </tr>\n    <tr>\n      <th>27</th>\n      <td>34228</td>\n      <td>DOC: Validation script doesn't report that the...</td>\n      <td>[{'id': 134699, 'node_id': 'MDU6TGFiZWwxMzQ2OT...</td>\n      <td>open</td>\n    </tr>\n    <tr>\n      <th>28</th>\n      <td>34226</td>\n      <td>ENH: Looking-forward rolling window</td>\n      <td>[{'id': 76812, 'node_id': 'MDU6TGFiZWw3NjgxMg=...</td>\n      <td>open</td>\n    </tr>\n    <tr>\n      <th>29</th>\n      <td>34225</td>\n      <td>BUG: Use of PeriodIndex with rolling transform...</td>\n      <td>[{'id': 76811, 'node_id': 'MDU6TGFiZWw3NjgxMQ=...</td>\n      <td>open</td>\n    </tr>\n  </tbody>\n</table>\n</div>"
     },
     "metadata": {},
     "execution_count": 195
    }
   ],
   "source": [
    "# EXERCICIO - 09\n",
    "# Considerando o trecho de código que conecta em uma url na internet, imprima o dataframe conforme abaixo.\n",
    "import requests\n",
    "url = 'https://api.github.com/repos/pandas-dev/pandas/issues'\n",
    "resp = requests.get(url)\n",
    "\n",
    "df = pd.DataFrame(resp.json(), columns = ['number', 'title', 'labels', 'state'])\n",
    "\n",
    "df"
   ]
  },
  {
   "cell_type": "code",
   "execution_count": null,
   "metadata": {},
   "outputs": [],
   "source": [
    "# EXERCICIO - 10\n",
    "# Crie um banco de dados no SQLite, crie uma tabela, insira registros, \n",
    "# consulte a tabela e retorne os dados em dataframe do Pandas"
   ]
  },
  {
   "cell_type": "code",
   "execution_count": 205,
   "metadata": {},
   "outputs": [
    {
     "output_type": "execute_result",
     "data": {
      "text/plain": "     id               nome            cargo   salario\n0  1000  Guilherme Roncato       Presidente  150000.0\n1  1001    Alexandra Maria  Vice Presidente  125500.0\n2  1002      Joana Roncato          Diretor   95000.0",
      "text/html": "<div>\n<style scoped>\n    .dataframe tbody tr th:only-of-type {\n        vertical-align: middle;\n    }\n\n    .dataframe tbody tr th {\n        vertical-align: top;\n    }\n\n    .dataframe thead th {\n        text-align: right;\n    }\n</style>\n<table border=\"1\" class=\"dataframe\">\n  <thead>\n    <tr style=\"text-align: right;\">\n      <th></th>\n      <th>id</th>\n      <th>nome</th>\n      <th>cargo</th>\n      <th>salario</th>\n    </tr>\n  </thead>\n  <tbody>\n    <tr>\n      <th>0</th>\n      <td>1000</td>\n      <td>Guilherme Roncato</td>\n      <td>Presidente</td>\n      <td>150000.0</td>\n    </tr>\n    <tr>\n      <th>1</th>\n      <td>1001</td>\n      <td>Alexandra Maria</td>\n      <td>Vice Presidente</td>\n      <td>125500.0</td>\n    </tr>\n    <tr>\n      <th>2</th>\n      <td>1002</td>\n      <td>Joana Roncato</td>\n      <td>Diretor</td>\n      <td>95000.0</td>\n    </tr>\n  </tbody>\n</table>\n</div>"
     },
     "metadata": {},
     "execution_count": 205
    }
   ],
   "source": [
    "import os\n",
    "import sqlite3\n",
    "\n",
    "con = sqlite3.connect('empresa.db')\n",
    "cur = con.cursor()\n",
    "\n",
    "# criando instrução Sql\n",
    "#sql_create = 'create table funcionario '\\\n",
    "#'(id integer primary key,'\\\n",
    "#'nome varchar(100),'\\\n",
    "#'cargo varchar(140),'\\\n",
    "#'salario float)'\\\n",
    "\n",
    "#cur.execute(sql_create)\n",
    "\n",
    "#dados\n",
    "#recfuncionario = [(1000, 'Guilherme Roncato', 'Presidente', 150000.00),\n",
    "#                  (1001, 'Alexandra Maria', 'Vice Presidente', 125500.00),\n",
    "#                  (1002, 'Joana Roncato', 'Diretor', 95000.00)]\n",
    "\n",
    "#sql_insert = 'insert into funcionario values(?, ?, ?, ?)'\n",
    "#inserindo os registros\n",
    "#for rec in recfuncionario:\n",
    "#    cur.execute(sql_insert, rec)\n",
    "#con.commit()\n",
    "\n",
    "\n",
    "# consultando os dados\n",
    "sql_select = 'select * from funcionario'\n",
    "\n",
    "cur.execute(sql_select)\n",
    "dados = cur.fetchall()\n",
    "\n",
    "df = pd.DataFrame(dados, columns = ['id','nome', 'cargo', 'salario'])\n",
    "\n",
    "con.close()\n",
    "\n",
    "df\n"
   ]
  }
 ],
 "metadata": {
  "language_info": {
   "codemirror_mode": {
    "name": "ipython",
    "version": 3
   },
   "file_extension": ".py",
   "mimetype": "text/x-python",
   "name": "python",
   "nbconvert_exporter": "python",
   "pygments_lexer": "ipython3",
   "version": "3.7.6-final"
  },
  "orig_nbformat": 2,
  "kernelspec": {
   "name": "python37664bitbasecondae1797f1665a5401db9a5814b5ddc2edc",
   "display_name": "Python 3.7.6 64-bit ('base': conda)"
  }
 },
 "nbformat": 4,
 "nbformat_minor": 2
}