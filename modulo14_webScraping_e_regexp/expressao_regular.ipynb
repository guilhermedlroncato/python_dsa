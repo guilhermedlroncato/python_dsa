{
 "cells": [
  {
   "cell_type": "code",
   "execution_count": 1,
   "metadata": {},
   "outputs": [],
   "source": [
    " import re"
   ]
  },
  {
   "cell_type": "code",
   "execution_count": 2,
   "metadata": {},
   "outputs": [],
   "source": [
    "# lista de de temros de busca\n",
    "lista_pesquisa = ['informações', 'Negócios']"
   ]
  },
  {
   "cell_type": "code",
   "execution_count": 7,
   "metadata": {},
   "outputs": [],
   "source": [
    "texto = 'Existem muitos desafios em Big Data. O primeiro deles é a coleta de dados, pois fala-se aqui de '\\\n",
    "'enorme quantidade sendo geradas em um taxa maior do que um servidor comum seria capaz de processar e armazenar grandes informações.'"
   ]
  },
  {
   "cell_type": "code",
   "execution_count": 8,
   "metadata": {},
   "outputs": [
    {
     "output_type": "stream",
     "name": "stdout",
     "text": "Buscando por \"informações\" em: \n\n\"Existem muitos desafios em Big Data. O primeiro deles é a coleta de dados, pois fala-se aqui de enorme quantidade sendo geradas em um taxa maior do que um servidor comum seria capaz de processar e armazenar grandes informações.\"\n\n Palavra Encontrada \n\n\nBuscando por \"Negócios\" em: \n\n\"Existem muitos desafios em Big Data. O primeiro deles é a coleta de dados, pois fala-se aqui de enorme quantidade sendo geradas em um taxa maior do que um servidor comum seria capaz de processar e armazenar grandes informações.\"\n\n Palavra não Encontrada \n\n\n"
    }
   ],
   "source": [
    "# exemplo basico de Data Mining\n",
    "for item in lista_pesquisa:\n",
    "    print('Buscando por \"%s\" em: \\n\\n\"%s\"'% (item, texto))\n",
    "    # verificando se o termo de pesquisa existe no texto\n",
    "    if re.search(item, texto):\n",
    "        print('\\n Palavra Encontrada \\n\\n')\n",
    "    else:\n",
    "        print('\\n Palavra não Encontrada \\n\\n')"
   ]
  },
  {
   "cell_type": "code",
   "execution_count": 10,
   "metadata": {},
   "outputs": [
    {
     "output_type": "execute_result",
     "data": {
      "text/plain": "['Qual é o dominio de alguem com e-mail: aluno', 'gmail.com']"
     },
     "metadata": {},
     "execution_count": 10
    }
   ],
   "source": [
    "# termo usado para dividir a string\n",
    "split_termo = '@'\n",
    "\n",
    "frase = 'Qual é o dominio de alguem com e-mail: aluno@gmail.com'\n",
    "\n",
    "# dividindo a frase\n",
    "re.split(split_termo, frase) "
   ]
  },
  {
   "cell_type": "code",
   "execution_count": 12,
   "metadata": {},
   "outputs": [],
   "source": [
    "def encontra_padroes(lista, frase):\n",
    "    for item in lista:\n",
    "        print('Pesquisando na frase: %r' %item)\n",
    "        print(re.findall(item, frase))\n",
    "        print('\\n')"
   ]
  },
  {
   "cell_type": "code",
   "execution_count": 17,
   "metadata": {},
   "outputs": [
    {
     "output_type": "stream",
     "name": "stdout",
     "text": "Pesquisando na frase: 'zL*'\n['zL', 'zL', 'z', 'z', 'zLLL', 'zLL', 'zLLL', 'zL', 'z', 'z', 'z', 'z', 'z', 'z', 'z', 'zLLLL']\n\n\nPesquisando na frase: 'zL+'\n['zL', 'zL', 'zLLL', 'zLL', 'zLLL', 'zL', 'zLLLL']\n\n\nPesquisando na frase: 'zL?'\n['zL', 'zL', 'z', 'z', 'zL', 'zL', 'zL', 'zL', 'z', 'z', 'z', 'z', 'z', 'z', 'z', 'zL']\n\n\nPesquisando na frase: 'zL{3}'\n['zLLL', 'zLLL', 'zLLL']\n\n\nPesquisando na frase: 'zL{2,3}'\n['zLLL', 'zLL', 'zLLL', 'zLLL']\n\n\n"
    }
   ],
   "source": [
    "frase_padrao = 'zLzL..zzzLLL...zLLzLLL...LzLz...dzzzzzz...zLLLL'\n",
    "\n",
    "lista_padroes = ['zL*',     # z seguido de zero ou mais L\n",
    "                 'zL+',     # z seguido por um ou mais L\n",
    "                 'zL?',     # z seguido por zero ou um L\n",
    "                 'zL{3}',   # z seguido por três L\n",
    "                 'zL{2,3}' # z seguido por dois ou três L\n",
    "                ]\n",
    "\n",
    "encontra_padroes(lista_padroes, frase_padrao)"
   ]
  },
  {
   "cell_type": "code",
   "execution_count": 19,
   "metadata": {},
   "outputs": [
    {
     "output_type": "stream",
     "name": "stdout",
     "text": "Pesquisando na frase: '[a-z]+'\n['st', 'uma', 'frase', 'exemplo', 'amos', 'verificar', 'quais', 'padr', 'es', 'ser', 'o', 'encontrados']\n\n\nPesquisando na frase: '[A-Z]+'\n['E', 'V']\n\n\nPesquisando na frase: '[a-zA-z]+'\n['Est', 'uma', 'frase', 'exemplo', 'Vamos', 'verificar', 'quais', 'padr', 'es', 'ser', 'o', 'encontrados']\n\n\nPesquisando na frase: '[A-Z][a-z]+'\n['Est', 'Vamos']\n\n\n"
    }
   ],
   "source": [
    "frase = 'Está é uma frase exemplo. Vamos verificar quais padrões serão encontrados.'\n",
    "\n",
    "lista_padroes = ['[a-z]+',     # sequencia de letras minusculas\n",
    "                 '[A-Z]+',     # sequencia de letras maiusculas\n",
    "                 '[a-zA-z]+',  # sequencia de letra minusculas e maiusculas\n",
    "                 '[A-Z][a-z]+' # uma letra maiuscula seguida de uma letra minuscula\n",
    "                ]\n",
    "\n",
    "encontra_padroes(lista_padroes, frase)"
   ]
  }
 ],
 "metadata": {
  "language_info": {
   "codemirror_mode": {
    "name": "ipython",
    "version": 3
   },
   "file_extension": ".py",
   "mimetype": "text/x-python",
   "name": "python",
   "nbconvert_exporter": "python",
   "pygments_lexer": "ipython3",
   "version": "3.7.6-final"
  },
  "orig_nbformat": 2,
  "kernelspec": {
   "name": "python37664bitbasecondae1797f1665a5401db9a5814b5ddc2edc",
   "display_name": "Python 3.7.6 64-bit ('base': conda)"
  }
 },
 "nbformat": 4,
 "nbformat_minor": 2
}